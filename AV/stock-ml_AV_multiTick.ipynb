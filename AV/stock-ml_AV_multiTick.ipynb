{
 "cells": [
  {
   "cell_type": "code",
   "execution_count": 8,
   "metadata": {},
   "outputs": [
    {
     "name": "stderr",
     "output_type": "stream",
     "text": [
      "Using TensorFlow backend.\n"
     ]
    }
   ],
   "source": [
    "import numpy as np\n",
    "import pandas as pd\n",
    "import matplotlib.pyplot as plt\n",
    "from sklearn.preprocessing import MinMaxScaler\n",
    "from keras.models import Sequential, load_model\n",
    "from keras.layers import LSTM, Dense, Dropout\n",
    "import os\n",
    "import tensorflow as tf"
   ]
  },
  {
   "cell_type": "code",
   "execution_count": 3,
   "metadata": {},
   "outputs": [],
   "source": [
    "import yfinance as yf\n",
    "\n",
    "top_tech = yf.Tickers(\"AMZN AAPL FB GOOGL MSFT\")"
   ]
  },
  {
   "cell_type": "code",
   "execution_count": 4,
   "metadata": {},
   "outputs": [
    {
     "name": "stdout",
     "output_type": "stream",
     "text": [
      "[*********************100%***********************]  5 of 5 completed\n"
     ]
    },
    {
     "data": {
      "text/html": [
       "<div>\n",
       "<style scoped>\n",
       "    .dataframe tbody tr th:only-of-type {\n",
       "        vertical-align: middle;\n",
       "    }\n",
       "\n",
       "    .dataframe tbody tr th {\n",
       "        vertical-align: top;\n",
       "    }\n",
       "\n",
       "    .dataframe thead tr th {\n",
       "        text-align: left;\n",
       "    }\n",
       "\n",
       "    .dataframe thead tr:last-of-type th {\n",
       "        text-align: right;\n",
       "    }\n",
       "</style>\n",
       "<table border=\"1\" class=\"dataframe\">\n",
       "  <thead>\n",
       "    <tr>\n",
       "      <th></th>\n",
       "      <th colspan=\"5\" halign=\"left\">Close</th>\n",
       "      <th colspan=\"5\" halign=\"left\">Dividends</th>\n",
       "      <th>...</th>\n",
       "      <th colspan=\"5\" halign=\"left\">Stock Splits</th>\n",
       "      <th colspan=\"5\" halign=\"left\">Volume</th>\n",
       "    </tr>\n",
       "    <tr>\n",
       "      <th></th>\n",
       "      <th>AAPL</th>\n",
       "      <th>AMZN</th>\n",
       "      <th>FB</th>\n",
       "      <th>GOOGL</th>\n",
       "      <th>MSFT</th>\n",
       "      <th>AAPL</th>\n",
       "      <th>AMZN</th>\n",
       "      <th>FB</th>\n",
       "      <th>GOOGL</th>\n",
       "      <th>MSFT</th>\n",
       "      <th>...</th>\n",
       "      <th>AAPL</th>\n",
       "      <th>AMZN</th>\n",
       "      <th>FB</th>\n",
       "      <th>GOOGL</th>\n",
       "      <th>MSFT</th>\n",
       "      <th>AAPL</th>\n",
       "      <th>AMZN</th>\n",
       "      <th>FB</th>\n",
       "      <th>GOOGL</th>\n",
       "      <th>MSFT</th>\n",
       "    </tr>\n",
       "    <tr>\n",
       "      <th>Date</th>\n",
       "      <th></th>\n",
       "      <th></th>\n",
       "      <th></th>\n",
       "      <th></th>\n",
       "      <th></th>\n",
       "      <th></th>\n",
       "      <th></th>\n",
       "      <th></th>\n",
       "      <th></th>\n",
       "      <th></th>\n",
       "      <th></th>\n",
       "      <th></th>\n",
       "      <th></th>\n",
       "      <th></th>\n",
       "      <th></th>\n",
       "      <th></th>\n",
       "      <th></th>\n",
       "      <th></th>\n",
       "      <th></th>\n",
       "      <th></th>\n",
       "      <th></th>\n",
       "    </tr>\n",
       "  </thead>\n",
       "  <tbody>\n",
       "    <tr>\n",
       "      <th>2019-11-07</th>\n",
       "      <td>64.302185</td>\n",
       "      <td>1788.199951</td>\n",
       "      <td>190.419998</td>\n",
       "      <td>1306.939941</td>\n",
       "      <td>142.636139</td>\n",
       "      <td>0.1925</td>\n",
       "      <td>0</td>\n",
       "      <td>0</td>\n",
       "      <td>0</td>\n",
       "      <td>0.0</td>\n",
       "      <td>...</td>\n",
       "      <td>0.0</td>\n",
       "      <td>0</td>\n",
       "      <td>0</td>\n",
       "      <td>0</td>\n",
       "      <td>0</td>\n",
       "      <td>94940400</td>\n",
       "      <td>2651100</td>\n",
       "      <td>13473000</td>\n",
       "      <td>2257000</td>\n",
       "      <td>17786700</td>\n",
       "    </tr>\n",
       "    <tr>\n",
       "      <th>2019-11-08</th>\n",
       "      <td>64.478165</td>\n",
       "      <td>1785.880005</td>\n",
       "      <td>190.839996</td>\n",
       "      <td>1309.000000</td>\n",
       "      <td>144.317017</td>\n",
       "      <td>0.0000</td>\n",
       "      <td>0</td>\n",
       "      <td>0</td>\n",
       "      <td>0</td>\n",
       "      <td>0.0</td>\n",
       "      <td>...</td>\n",
       "      <td>0.0</td>\n",
       "      <td>0</td>\n",
       "      <td>0</td>\n",
       "      <td>0</td>\n",
       "      <td>0</td>\n",
       "      <td>69986400</td>\n",
       "      <td>2123300</td>\n",
       "      <td>10760800</td>\n",
       "      <td>1519600</td>\n",
       "      <td>16732700</td>\n",
       "    </tr>\n",
       "    <tr>\n",
       "      <th>2019-11-11</th>\n",
       "      <td>64.988770</td>\n",
       "      <td>1771.650024</td>\n",
       "      <td>189.610001</td>\n",
       "      <td>1298.280029</td>\n",
       "      <td>144.465332</td>\n",
       "      <td>0.0000</td>\n",
       "      <td>0</td>\n",
       "      <td>0</td>\n",
       "      <td>0</td>\n",
       "      <td>0.0</td>\n",
       "      <td>...</td>\n",
       "      <td>0.0</td>\n",
       "      <td>0</td>\n",
       "      <td>0</td>\n",
       "      <td>0</td>\n",
       "      <td>0</td>\n",
       "      <td>81821200</td>\n",
       "      <td>1946000</td>\n",
       "      <td>8631200</td>\n",
       "      <td>861700</td>\n",
       "      <td>14362600</td>\n",
       "    </tr>\n",
       "    <tr>\n",
       "      <th>2019-11-12</th>\n",
       "      <td>64.929268</td>\n",
       "      <td>1778.000000</td>\n",
       "      <td>194.470001</td>\n",
       "      <td>1297.209961</td>\n",
       "      <td>145.414520</td>\n",
       "      <td>0.0000</td>\n",
       "      <td>0</td>\n",
       "      <td>0</td>\n",
       "      <td>0</td>\n",
       "      <td>0.0</td>\n",
       "      <td>...</td>\n",
       "      <td>0.0</td>\n",
       "      <td>0</td>\n",
       "      <td>0</td>\n",
       "      <td>0</td>\n",
       "      <td>0</td>\n",
       "      <td>87388800</td>\n",
       "      <td>2037600</td>\n",
       "      <td>17615500</td>\n",
       "      <td>1442600</td>\n",
       "      <td>18641600</td>\n",
       "    </tr>\n",
       "    <tr>\n",
       "      <th>2019-11-13</th>\n",
       "      <td>65.551399</td>\n",
       "      <td>1753.109985</td>\n",
       "      <td>193.190002</td>\n",
       "      <td>1296.180054</td>\n",
       "      <td>145.651825</td>\n",
       "      <td>0.0000</td>\n",
       "      <td>0</td>\n",
       "      <td>0</td>\n",
       "      <td>0</td>\n",
       "      <td>0.0</td>\n",
       "      <td>...</td>\n",
       "      <td>0.0</td>\n",
       "      <td>0</td>\n",
       "      <td>0</td>\n",
       "      <td>0</td>\n",
       "      <td>0</td>\n",
       "      <td>102734400</td>\n",
       "      <td>2989500</td>\n",
       "      <td>10860700</td>\n",
       "      <td>1026900</td>\n",
       "      <td>16919200</td>\n",
       "    </tr>\n",
       "    <tr>\n",
       "      <th>...</th>\n",
       "      <td>...</td>\n",
       "      <td>...</td>\n",
       "      <td>...</td>\n",
       "      <td>...</td>\n",
       "      <td>...</td>\n",
       "      <td>...</td>\n",
       "      <td>...</td>\n",
       "      <td>...</td>\n",
       "      <td>...</td>\n",
       "      <td>...</td>\n",
       "      <td>...</td>\n",
       "      <td>...</td>\n",
       "      <td>...</td>\n",
       "      <td>...</td>\n",
       "      <td>...</td>\n",
       "      <td>...</td>\n",
       "      <td>...</td>\n",
       "      <td>...</td>\n",
       "      <td>...</td>\n",
       "      <td>...</td>\n",
       "      <td>...</td>\n",
       "    </tr>\n",
       "    <tr>\n",
       "      <th>2020-11-02</th>\n",
       "      <td>108.582664</td>\n",
       "      <td>3004.479980</td>\n",
       "      <td>261.359985</td>\n",
       "      <td>1624.319946</td>\n",
       "      <td>202.330002</td>\n",
       "      <td>0.0000</td>\n",
       "      <td>0</td>\n",
       "      <td>0</td>\n",
       "      <td>0</td>\n",
       "      <td>0.0</td>\n",
       "      <td>...</td>\n",
       "      <td>0.0</td>\n",
       "      <td>0</td>\n",
       "      <td>0</td>\n",
       "      <td>0</td>\n",
       "      <td>0</td>\n",
       "      <td>122866900</td>\n",
       "      <td>7257400</td>\n",
       "      <td>27165700</td>\n",
       "      <td>2211400</td>\n",
       "      <td>30842200</td>\n",
       "    </tr>\n",
       "    <tr>\n",
       "      <th>2020-11-03</th>\n",
       "      <td>110.249794</td>\n",
       "      <td>3048.409912</td>\n",
       "      <td>265.299988</td>\n",
       "      <td>1645.660034</td>\n",
       "      <td>206.429993</td>\n",
       "      <td>0.0000</td>\n",
       "      <td>0</td>\n",
       "      <td>0</td>\n",
       "      <td>0</td>\n",
       "      <td>0.0</td>\n",
       "      <td>...</td>\n",
       "      <td>0.0</td>\n",
       "      <td>0</td>\n",
       "      <td>0</td>\n",
       "      <td>0</td>\n",
       "      <td>0</td>\n",
       "      <td>107624400</td>\n",
       "      <td>4897900</td>\n",
       "      <td>17961900</td>\n",
       "      <td>1571600</td>\n",
       "      <td>27512000</td>\n",
       "    </tr>\n",
       "    <tr>\n",
       "      <th>2020-11-04</th>\n",
       "      <td>114.752022</td>\n",
       "      <td>3241.159912</td>\n",
       "      <td>287.380005</td>\n",
       "      <td>1745.849976</td>\n",
       "      <td>216.389999</td>\n",
       "      <td>0.0000</td>\n",
       "      <td>0</td>\n",
       "      <td>0</td>\n",
       "      <td>0</td>\n",
       "      <td>0.0</td>\n",
       "      <td>...</td>\n",
       "      <td>0.0</td>\n",
       "      <td>0</td>\n",
       "      <td>0</td>\n",
       "      <td>0</td>\n",
       "      <td>0</td>\n",
       "      <td>138235500</td>\n",
       "      <td>6839000</td>\n",
       "      <td>35364400</td>\n",
       "      <td>3567100</td>\n",
       "      <td>42311800</td>\n",
       "    </tr>\n",
       "    <tr>\n",
       "      <th>2020-11-05</th>\n",
       "      <td>118.824997</td>\n",
       "      <td>3322.000000</td>\n",
       "      <td>294.679993</td>\n",
       "      <td>1762.500000</td>\n",
       "      <td>223.289993</td>\n",
       "      <td>0.0000</td>\n",
       "      <td>0</td>\n",
       "      <td>0</td>\n",
       "      <td>0</td>\n",
       "      <td>0.0</td>\n",
       "      <td>...</td>\n",
       "      <td>0.0</td>\n",
       "      <td>0</td>\n",
       "      <td>0</td>\n",
       "      <td>0</td>\n",
       "      <td>0</td>\n",
       "      <td>126387100</td>\n",
       "      <td>5789300</td>\n",
       "      <td>23823600</td>\n",
       "      <td>1987900</td>\n",
       "      <td>36080100</td>\n",
       "    </tr>\n",
       "    <tr>\n",
       "      <th>2020-11-06</th>\n",
       "      <td>118.690002</td>\n",
       "      <td>3311.370117</td>\n",
       "      <td>293.410004</td>\n",
       "      <td>1759.729980</td>\n",
       "      <td>223.720001</td>\n",
       "      <td>0.2050</td>\n",
       "      <td>0</td>\n",
       "      <td>0</td>\n",
       "      <td>0</td>\n",
       "      <td>0.0</td>\n",
       "      <td>...</td>\n",
       "      <td>0.0</td>\n",
       "      <td>0</td>\n",
       "      <td>0</td>\n",
       "      <td>0</td>\n",
       "      <td>0</td>\n",
       "      <td>114283600</td>\n",
       "      <td>4641300</td>\n",
       "      <td>13880800</td>\n",
       "      <td>1430600</td>\n",
       "      <td>25210600</td>\n",
       "    </tr>\n",
       "  </tbody>\n",
       "</table>\n",
       "<p>253 rows × 35 columns</p>\n",
       "</div>"
      ],
      "text/plain": [
       "                 Close                                                    \\\n",
       "                  AAPL         AMZN          FB        GOOGL        MSFT   \n",
       "Date                                                                       \n",
       "2019-11-07   64.302185  1788.199951  190.419998  1306.939941  142.636139   \n",
       "2019-11-08   64.478165  1785.880005  190.839996  1309.000000  144.317017   \n",
       "2019-11-11   64.988770  1771.650024  189.610001  1298.280029  144.465332   \n",
       "2019-11-12   64.929268  1778.000000  194.470001  1297.209961  145.414520   \n",
       "2019-11-13   65.551399  1753.109985  193.190002  1296.180054  145.651825   \n",
       "...                ...          ...         ...          ...         ...   \n",
       "2020-11-02  108.582664  3004.479980  261.359985  1624.319946  202.330002   \n",
       "2020-11-03  110.249794  3048.409912  265.299988  1645.660034  206.429993   \n",
       "2020-11-04  114.752022  3241.159912  287.380005  1745.849976  216.389999   \n",
       "2020-11-05  118.824997  3322.000000  294.679993  1762.500000  223.289993   \n",
       "2020-11-06  118.690002  3311.370117  293.410004  1759.729980  223.720001   \n",
       "\n",
       "           Dividends                     ... Stock Splits                     \\\n",
       "                AAPL AMZN FB GOOGL MSFT  ...         AAPL AMZN FB GOOGL MSFT   \n",
       "Date                                     ...                                   \n",
       "2019-11-07    0.1925    0  0     0  0.0  ...          0.0    0  0     0    0   \n",
       "2019-11-08    0.0000    0  0     0  0.0  ...          0.0    0  0     0    0   \n",
       "2019-11-11    0.0000    0  0     0  0.0  ...          0.0    0  0     0    0   \n",
       "2019-11-12    0.0000    0  0     0  0.0  ...          0.0    0  0     0    0   \n",
       "2019-11-13    0.0000    0  0     0  0.0  ...          0.0    0  0     0    0   \n",
       "...              ...  ... ..   ...  ...  ...          ...  ... ..   ...  ...   \n",
       "2020-11-02    0.0000    0  0     0  0.0  ...          0.0    0  0     0    0   \n",
       "2020-11-03    0.0000    0  0     0  0.0  ...          0.0    0  0     0    0   \n",
       "2020-11-04    0.0000    0  0     0  0.0  ...          0.0    0  0     0    0   \n",
       "2020-11-05    0.0000    0  0     0  0.0  ...          0.0    0  0     0    0   \n",
       "2020-11-06    0.2050    0  0     0  0.0  ...          0.0    0  0     0    0   \n",
       "\n",
       "               Volume                                        \n",
       "                 AAPL     AMZN        FB    GOOGL      MSFT  \n",
       "Date                                                         \n",
       "2019-11-07   94940400  2651100  13473000  2257000  17786700  \n",
       "2019-11-08   69986400  2123300  10760800  1519600  16732700  \n",
       "2019-11-11   81821200  1946000   8631200   861700  14362600  \n",
       "2019-11-12   87388800  2037600  17615500  1442600  18641600  \n",
       "2019-11-13  102734400  2989500  10860700  1026900  16919200  \n",
       "...               ...      ...       ...      ...       ...  \n",
       "2020-11-02  122866900  7257400  27165700  2211400  30842200  \n",
       "2020-11-03  107624400  4897900  17961900  1571600  27512000  \n",
       "2020-11-04  138235500  6839000  35364400  3567100  42311800  \n",
       "2020-11-05  126387100  5789300  23823600  1987900  36080100  \n",
       "2020-11-06  114283600  4641300  13880800  1430600  25210600  \n",
       "\n",
       "[253 rows x 35 columns]"
      ]
     },
     "execution_count": 4,
     "metadata": {},
     "output_type": "execute_result"
    }
   ],
   "source": [
    "top_tech.history(period='1y')"
   ]
  },
  {
   "cell_type": "code",
   "execution_count": 5,
   "metadata": {},
   "outputs": [
    {
     "name": "stdout",
     "output_type": "stream",
     "text": [
      "[*********************100%***********************]  5 of 5 completed\n"
     ]
    }
   ],
   "source": [
    "df = top_tech.history(period='1y')['Open'].values\n",
    "df = df.reshape(-1,1)"
   ]
  },
  {
   "cell_type": "code",
   "execution_count": 6,
   "metadata": {},
   "outputs": [
    {
     "data": {
      "text/plain": [
       "(1265, 1)"
      ]
     },
     "execution_count": 6,
     "metadata": {},
     "output_type": "execute_result"
    }
   ],
   "source": [
    "df.shape"
   ]
  },
  {
   "cell_type": "code",
   "execution_count": 9,
   "metadata": {},
   "outputs": [
    {
     "name": "stdout",
     "output_type": "stream",
     "text": [
      "(1012, 1)\n",
      "(258, 1)\n"
     ]
    }
   ],
   "source": [
    "dataset_train = np.array(df[:int(df.shape[0]*0.8)])\n",
    "dataset_test = np.array(df[int(df.shape[0]*0.8)-5:])\n",
    "print(dataset_train.shape)\n",
    "print(dataset_test.shape)"
   ]
  },
  {
   "cell_type": "code",
   "execution_count": 10,
   "metadata": {},
   "outputs": [
    {
     "data": {
      "text/plain": [
       "array([[0.00219993],\n",
       "       [0.51485302],\n",
       "       [0.03985521],\n",
       "       [0.36471382],\n",
       "       [0.02521227],\n",
       "       [0.00219628],\n",
       "       [0.51017628]])"
      ]
     },
     "execution_count": 10,
     "metadata": {},
     "output_type": "execute_result"
    }
   ],
   "source": [
    "scaler = MinMaxScaler(feature_range=(0,1))\n",
    "dataset_train = scaler.fit_transform(dataset_train)\n",
    "dataset_train[:7]"
   ]
  },
  {
   "cell_type": "code",
   "execution_count": 11,
   "metadata": {},
   "outputs": [
    {
     "data": {
      "text/plain": [
       "array([[0.06699331],\n",
       "       [0.45666333],\n",
       "       [0.04750834],\n",
       "       [0.02070428],\n",
       "       [1.        ],\n",
       "       [0.07175552],\n",
       "       [0.46854231]])"
      ]
     },
     "execution_count": 11,
     "metadata": {},
     "output_type": "execute_result"
    }
   ],
   "source": [
    "dataset_test = scaler.transform(dataset_test)\n",
    "dataset_test[:7]"
   ]
  },
  {
   "cell_type": "code",
   "execution_count": 12,
   "metadata": {},
   "outputs": [],
   "source": [
    "def create_my_dataset(df):\n",
    "    x = []\n",
    "    y = []\n",
    "    for i in range(50, df.shape[0]):\n",
    "        x.append(df[i-50:i,0])\n",
    "        y.append(df[i,0])\n",
    "    x = np.array(x)\n",
    "    y = np.array(y)\n",
    "    return x,y"
   ]
  },
  {
   "cell_type": "code",
   "execution_count": 13,
   "metadata": {},
   "outputs": [
    {
     "name": "stdout",
     "output_type": "stream",
     "text": [
      "48100\n",
      "962\n"
     ]
    }
   ],
   "source": [
    "a = create_my_dataset(dataset_train)\n",
    "print(a[0].size)\n",
    "print(a[1].size)"
   ]
  },
  {
   "cell_type": "code",
   "execution_count": 14,
   "metadata": {},
   "outputs": [
    {
     "data": {
      "text/plain": [
       "array([[0.00219993, 0.51485302, 0.03985521, 0.36471382, 0.02521227,\n",
       "        0.00219628, 0.51017628, 0.03929235, 0.36684738, 0.02525306,\n",
       "        0.00216779, 0.50726178, 0.03927172, 0.36757821, 0.02564933,\n",
       "        0.00240518, 0.50627752, 0.03929235, 0.36597802, 0.02592322,\n",
       "        0.0023745 , 0.50590325, 0.0406774 , 0.36438967, 0.02605726,\n",
       "        0.00256587, 0.49943185, 0.04015579, 0.36492599, 0.02613884,\n",
       "        0.00256076, 0.50197209, 0.04054773, 0.37083456, 0.02669537,\n",
       "        0.0027156 , 0.49556255, 0.04063614, 0.37592974, 0.02702754,\n",
       "        0.00286899, 0.50107031, 0.04147306, 0.37424707, 0.02726354,\n",
       "        0.00269662, 0.498757  , 0.0418208 , 0.36974713, 0.02724649]])"
      ]
     },
     "execution_count": 14,
     "metadata": {},
     "output_type": "execute_result"
    }
   ],
   "source": [
    "x_train, y_train = create_my_dataset(dataset_train)\n",
    "x_train[:1]"
   ]
  },
  {
   "cell_type": "code",
   "execution_count": 15,
   "metadata": {},
   "outputs": [
    {
     "data": {
      "text/plain": [
       "array([0.00256149])"
      ]
     },
     "execution_count": 15,
     "metadata": {},
     "output_type": "execute_result"
    }
   ],
   "source": [
    "y_train[:1]"
   ]
  },
  {
   "cell_type": "code",
   "execution_count": 16,
   "metadata": {},
   "outputs": [
    {
     "data": {
      "text/plain": [
       "array([[0.06699331, 0.45666333, 0.04750834, 0.02070428, 1.        ,\n",
       "        0.07175552, 0.46854231, 0.04898474, 0.02037185, 0.99202859,\n",
       "        0.07023491, 0.4634913 , 0.05054365, 0.02083298, 0.98789997,\n",
       "        0.06992549, 0.46764644, 0.05019592, 0.02235685, 1.01164915,\n",
       "        0.07014945, 0.46428404, 0.04975683, 0.02377776, 1.02857029,\n",
       "        0.07137832, 0.47484871, 0.05048177, 0.02063588, 1.01029944,\n",
       "        0.07052666, 0.48413443, 0.05086487, 0.01862366, 0.96108603,\n",
       "        0.06795106, 0.45745898, 0.0466891 , 0.01682326, 0.90980978,\n",
       "        0.06324484, 0.43270493, 0.04415475, 0.01779701, 0.92719361,\n",
       "        0.064568  , 0.43974806, 0.04447892, 0.01870898, 0.95790925]])"
      ]
     },
     "execution_count": 16,
     "metadata": {},
     "output_type": "execute_result"
    }
   ],
   "source": [
    "x_test, y_test = create_my_dataset(dataset_test)\n",
    "x_test[:1]"
   ]
  },
  {
   "cell_type": "code",
   "execution_count": 17,
   "metadata": {},
   "outputs": [
    {
     "name": "stdout",
     "output_type": "stream",
     "text": [
      "(962, 50, 1)\n",
      "(208, 50, 1)\n"
     ]
    }
   ],
   "source": [
    "#reshaping for LSTM\n",
    "x_train = np.reshape(x_train, (x_train.shape[0],x_train.shape[1],1))\n",
    "x_test = np.reshape(x_test, (x_test.shape[0], x_test.shape[1],1))\n",
    "print(x_train.shape)\n",
    "print(x_test.shape)\n"
   ]
  },
  {
   "cell_type": "code",
   "execution_count": 18,
   "metadata": {},
   "outputs": [],
   "source": [
    "tf.compat.v1.logging.set_verbosity(tf.compat.v1.logging.ERROR)\n",
    "model = Sequential()\n",
    "model.add(LSTM(units=96, return_sequences=True, input_shape=(x_train.shape[1],1)))\n",
    "model.add(Dropout(0.2))\n",
    "model.add(LSTM(units=96, return_sequences=True))\n",
    "model.add(Dropout(0.2))\n",
    "model.add(LSTM(units=96))\n",
    "model.add(Dropout(0.2))\n",
    "model.add(Dense(units=1))"
   ]
  },
  {
   "cell_type": "code",
   "execution_count": 19,
   "metadata": {},
   "outputs": [
    {
     "name": "stdout",
     "output_type": "stream",
     "text": [
      "Model: \"sequential_1\"\n",
      "_________________________________________________________________\n",
      "Layer (type)                 Output Shape              Param #   \n",
      "=================================================================\n",
      "lstm_1 (LSTM)                (None, 50, 96)            37632     \n",
      "_________________________________________________________________\n",
      "dropout_1 (Dropout)          (None, 50, 96)            0         \n",
      "_________________________________________________________________\n",
      "lstm_2 (LSTM)                (None, 50, 96)            74112     \n",
      "_________________________________________________________________\n",
      "dropout_2 (Dropout)          (None, 50, 96)            0         \n",
      "_________________________________________________________________\n",
      "lstm_3 (LSTM)                (None, 96)                74112     \n",
      "_________________________________________________________________\n",
      "dropout_3 (Dropout)          (None, 96)                0         \n",
      "_________________________________________________________________\n",
      "dense_1 (Dense)              (None, 1)                 97        \n",
      "=================================================================\n",
      "Total params: 185,953\n",
      "Trainable params: 185,953\n",
      "Non-trainable params: 0\n",
      "_________________________________________________________________\n"
     ]
    }
   ],
   "source": [
    "model.summary()"
   ]
  },
  {
   "cell_type": "code",
   "execution_count": 20,
   "metadata": {},
   "outputs": [],
   "source": [
    "model.compile(loss='mean_squared_error', optimizer='adam')"
   ]
  },
  {
   "cell_type": "code",
   "execution_count": 21,
   "metadata": {},
   "outputs": [
    {
     "name": "stdout",
     "output_type": "stream",
     "text": [
      "Epoch 1/50\n",
      "962/962 [==============================] - 21s 21ms/step - loss: 0.0763\n",
      "Epoch 2/50\n",
      "962/962 [==============================] - 12s 13ms/step - loss: 0.0729\n",
      "Epoch 3/50\n",
      "962/962 [==============================] - 12s 13ms/step - loss: 0.0740\n",
      "Epoch 4/50\n",
      "962/962 [==============================] - 12s 13ms/step - loss: 0.0733\n",
      "Epoch 5/50\n",
      "962/962 [==============================] - 12s 13ms/step - loss: 0.0741\n",
      "Epoch 6/50\n",
      "962/962 [==============================] - 13s 13ms/step - loss: 0.0721\n",
      "Epoch 7/50\n",
      "962/962 [==============================] - 13s 13ms/step - loss: 0.0727\n",
      "Epoch 8/50\n",
      "962/962 [==============================] - 13s 13ms/step - loss: 0.0725\n",
      "Epoch 9/50\n",
      "962/962 [==============================] - 13s 14ms/step - loss: 0.0723\n",
      "Epoch 10/50\n",
      "962/962 [==============================] - 13s 14ms/step - loss: 0.0699\n",
      "Epoch 11/50\n",
      "962/962 [==============================] - 13s 14ms/step - loss: 0.0650\n",
      "Epoch 12/50\n",
      "962/962 [==============================] - 14s 14ms/step - loss: 0.0517\n",
      "Epoch 13/50\n",
      "962/962 [==============================] - 14s 15ms/step - loss: 0.0348\n",
      "Epoch 14/50\n",
      "962/962 [==============================] - 14s 14ms/step - loss: 0.0296\n",
      "Epoch 15/50\n",
      "962/962 [==============================] - 14s 14ms/step - loss: 0.0226\n",
      "Epoch 16/50\n",
      "962/962 [==============================] - 13s 13ms/step - loss: 0.0196\n",
      "Epoch 17/50\n",
      "962/962 [==============================] - 13s 13ms/step - loss: 0.0152\n",
      "Epoch 18/50\n",
      "962/962 [==============================] - 13s 13ms/step - loss: 0.0133\n",
      "Epoch 19/50\n",
      "962/962 [==============================] - 13s 14ms/step - loss: 0.0108\n",
      "Epoch 20/50\n",
      "962/962 [==============================] - 12s 13ms/step - loss: 0.0088\n",
      "Epoch 21/50\n",
      "962/962 [==============================] - 13s 13ms/step - loss: 0.0074\n",
      "Epoch 22/50\n",
      "962/962 [==============================] - 13s 13ms/step - loss: 0.0063\n",
      "Epoch 23/50\n",
      "962/962 [==============================] - 13s 14ms/step - loss: 0.0056\n",
      "Epoch 24/50\n",
      "962/962 [==============================] - 12s 13ms/step - loss: 0.0053\n",
      "Epoch 25/50\n",
      "962/962 [==============================] - 12s 13ms/step - loss: 0.0043\n",
      "Epoch 26/50\n",
      "962/962 [==============================] - 12s 13ms/step - loss: 0.0036\n",
      "Epoch 27/50\n",
      "962/962 [==============================] - 12s 13ms/step - loss: 0.0035\n",
      "Epoch 28/50\n",
      "962/962 [==============================] - 13s 14ms/step - loss: 0.0034\n",
      "Epoch 29/50\n",
      "962/962 [==============================] - 13s 13ms/step - loss: 0.0031\n",
      "Epoch 30/50\n",
      "962/962 [==============================] - 13s 13ms/step - loss: 0.0028\n",
      "Epoch 31/50\n",
      "962/962 [==============================] - 13s 13ms/step - loss: 0.0026\n",
      "Epoch 32/50\n",
      "962/962 [==============================] - 13s 14ms/step - loss: 0.0027\n",
      "Epoch 33/50\n",
      "962/962 [==============================] - 13s 13ms/step - loss: 0.0021\n",
      "Epoch 34/50\n",
      "962/962 [==============================] - 13s 13ms/step - loss: 0.0022\n",
      "Epoch 35/50\n",
      "962/962 [==============================] - 16s 16ms/step - loss: 0.0025\n",
      "Epoch 36/50\n",
      "962/962 [==============================] - 16s 17ms/step - loss: 0.0019\n",
      "Epoch 37/50\n",
      "962/962 [==============================] - 14s 15ms/step - loss: 0.0020\n",
      "Epoch 38/50\n",
      "962/962 [==============================] - 12s 12ms/step - loss: 0.0018\n",
      "Epoch 39/50\n",
      "962/962 [==============================] - 12s 12ms/step - loss: 0.0019\n",
      "Epoch 40/50\n",
      "962/962 [==============================] - 12s 13ms/step - loss: 0.0019\n",
      "Epoch 41/50\n",
      "962/962 [==============================] - 12s 13ms/step - loss: 0.0018\n",
      "Epoch 42/50\n",
      "962/962 [==============================] - 12s 13ms/step - loss: 0.0021\n",
      "Epoch 43/50\n",
      "962/962 [==============================] - 12s 13ms/step - loss: 0.0017\n",
      "Epoch 44/50\n",
      "962/962 [==============================] - 12s 13ms/step - loss: 0.0023\n",
      "Epoch 45/50\n",
      "962/962 [==============================] - 13s 13ms/step - loss: 0.0016\n",
      "Epoch 46/50\n",
      "962/962 [==============================] - 13s 13ms/step - loss: 0.0015\n",
      "Epoch 47/50\n",
      "962/962 [==============================] - 13s 13ms/step - loss: 0.0015\n",
      "Epoch 48/50\n",
      "962/962 [==============================] - 13s 13ms/step - loss: 0.0017\n",
      "Epoch 49/50\n",
      "962/962 [==============================] - 13s 13ms/step - loss: 0.0018\n",
      "Epoch 50/50\n",
      "962/962 [==============================] - 13s 13ms/step - loss: 0.0016\n"
     ]
    }
   ],
   "source": [
    "if(not os.path.exists('mlt_stock_prediction.h5')):\n",
    "    model.fit(x_train, y_train, epochs=50, batch_size=32)\n",
    "    model.save('mlt_stock_prediction.h5')"
   ]
  },
  {
   "cell_type": "code",
   "execution_count": 22,
   "metadata": {},
   "outputs": [
    {
     "name": "stdout",
     "output_type": "stream",
     "text": [
      "range(1012, 1220)\n"
     ]
    },
    {
     "data": {
      "image/png": "[encoded data removed]",
      "text/plain": [
       "<Figure size 576x288 with 1 Axes>"
      ]
     },
     "metadata": {
      "needs_background": "light"
     },
     "output_type": "display_data"
    }
   ],
   "source": [
    "#visualizing our predictions\n",
    "%matplotlib inline\n",
    "predictions = model.predict(x_test)\n",
    "predictions = scaler.inverse_transform(predictions)\n",
    "\n",
    "fig, ax = plt.subplots(figsize=(8,4))\n",
    "plt.plot(df, color='red', label='Original Stockprice')\n",
    "ax.plot(range(len(y_train)+50,len(y_train)+50+len(predictions)),predictions,color='blue',label='predicted')\n",
    "plt.legend()\n",
    "plt.savefig('full_image_mlt_tck.png')\n",
    "print(range(len(y_train)+50,len(y_train)+50+len(predictions)))"
   ]
  },
  {
   "cell_type": "code",
   "execution_count": 71,
   "metadata": {},
   "outputs": [
    {
     "data": {
      "text/plain": [
       "array([[207.06],\n",
       "       [210.51],\n",
       "       [211.23],\n",
       "       [218.79],\n",
       "       [222.72],\n",
       "       [223.  ],\n",
       "       [217.1 ],\n",
       "       [220.15],\n",
       "       [220.42],\n",
       "       [215.8 ],\n",
       "       [213.12],\n",
       "       [213.93],\n",
       "       [215.03],\n",
       "       [213.85],\n",
       "       [211.59],\n",
       "       [207.67],\n",
       "       [204.07],\n",
       "       [203.5 ],\n",
       "       [204.29],\n",
       "       [203.89],\n",
       "       [214.02],\n",
       "       [222.04],\n",
       "       [222.26]])"
      ]
     },
     "execution_count": 71,
     "metadata": {},
     "output_type": "execute_result"
    }
   ],
   "source": [
    "msft.history('1mo')['Open'].values.reshape(-1,1)"
   ]
  },
  {
   "cell_type": "code",
   "execution_count": 72,
   "metadata": {},
   "outputs": [
    {
     "data": {
      "image/png": "[encoded data removed]",
      "text/plain": [
       "<Figure size 576x288 with 1 Axes>"
      ]
     },
     "metadata": {
      "needs_background": "light"
     },
     "output_type": "display_data"
    }
   ],
   "source": [
    "y_test_scaled = scaler.inverse_transform(y_test.reshape(-1,1))\n",
    "\n",
    "fig, ax = plt.subplots(figsize=(8,4))\n",
    "ax.plot(y_test_scaled, color='red', label='True Price of testing set')\n",
    "plt.plot(predictions,color='blue',label='predicted')\n",
    "plt.legend()\n",
    "plt.savefig('predict_image_mlt_tck.png')"
   ]
  },
  {
   "cell_type": "code",
   "execution_count": null,
   "metadata": {},
   "outputs": [],
   "source": []
  }
 ],
 "metadata": {
  "kernelspec": {
   "display_name": "Python 3",
   "language": "python",
   "name": "python3"
  },
  "language_info": {
   "codemirror_mode": {
    "name": "ipython",
    "version": 3
   },
   "file_extension": ".py",
   "mimetype": "text/x-python",
   "name": "python",
   "nbconvert_exporter": "python",
   "pygments_lexer": "ipython3",
   "version": "3.6.10"
  }
 },
 "nbformat": 4,
 "nbformat_minor": 4
}
