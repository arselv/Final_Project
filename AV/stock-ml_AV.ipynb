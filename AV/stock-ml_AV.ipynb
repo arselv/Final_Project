{
 "cells": [
  {
   "cell_type": "code",
   "execution_count": 22,
   "metadata": {},
   "outputs": [],
   "source": [
    "import numpy as np\n",
    "import pandas as pd\n",
    "import matplotlib.pyplot as plt\n",
    "from sklearn.preprocessing import MinMaxScaler\n",
    "from keras.models import Sequential, load_model\n",
    "from keras.layers import LSTM, Dense, Dropout\n",
    "import os\n",
    "import tensorflow as tf"
   ]
  },
  {
   "cell_type": "code",
   "execution_count": 131,
   "metadata": {},
   "outputs": [],
   "source": [
    "import yfinance as yf\n",
    "\n",
    "msft = yf.Ticker(\"MSFT\")"
   ]
  },
  {
   "cell_type": "code",
   "execution_count": 132,
   "metadata": {},
   "outputs": [
    {
     "data": {
      "text/html": [
       "<div>\n",
       "<style scoped>\n",
       "    .dataframe tbody tr th:only-of-type {\n",
       "        vertical-align: middle;\n",
       "    }\n",
       "\n",
       "    .dataframe tbody tr th {\n",
       "        vertical-align: top;\n",
       "    }\n",
       "\n",
       "    .dataframe thead th {\n",
       "        text-align: right;\n",
       "    }\n",
       "</style>\n",
       "<table border=\"1\" class=\"dataframe\">\n",
       "  <thead>\n",
       "    <tr style=\"text-align: right;\">\n",
       "      <th></th>\n",
       "      <th>Open</th>\n",
       "      <th>High</th>\n",
       "      <th>Low</th>\n",
       "      <th>Close</th>\n",
       "      <th>Volume</th>\n",
       "      <th>Dividends</th>\n",
       "      <th>Stock Splits</th>\n",
       "    </tr>\n",
       "    <tr>\n",
       "      <th>Date</th>\n",
       "      <th></th>\n",
       "      <th></th>\n",
       "      <th></th>\n",
       "      <th></th>\n",
       "      <th></th>\n",
       "      <th></th>\n",
       "      <th></th>\n",
       "    </tr>\n",
       "  </thead>\n",
       "  <tbody>\n",
       "    <tr>\n",
       "      <th>2018-11-07</th>\n",
       "      <td>106.53</td>\n",
       "      <td>109.26</td>\n",
       "      <td>106.50</td>\n",
       "      <td>108.99</td>\n",
       "      <td>37901700</td>\n",
       "      <td>0.0</td>\n",
       "      <td>0</td>\n",
       "    </tr>\n",
       "    <tr>\n",
       "      <th>2018-11-08</th>\n",
       "      <td>108.83</td>\n",
       "      <td>109.23</td>\n",
       "      <td>107.97</td>\n",
       "      <td>108.78</td>\n",
       "      <td>25644100</td>\n",
       "      <td>0.0</td>\n",
       "      <td>0</td>\n",
       "    </tr>\n",
       "    <tr>\n",
       "      <th>2018-11-09</th>\n",
       "      <td>107.91</td>\n",
       "      <td>108.49</td>\n",
       "      <td>105.87</td>\n",
       "      <td>106.66</td>\n",
       "      <td>32039200</td>\n",
       "      <td>0.0</td>\n",
       "      <td>0</td>\n",
       "    </tr>\n",
       "    <tr>\n",
       "      <th>2018-11-12</th>\n",
       "      <td>106.51</td>\n",
       "      <td>107.04</td>\n",
       "      <td>103.28</td>\n",
       "      <td>104.03</td>\n",
       "      <td>33621800</td>\n",
       "      <td>0.0</td>\n",
       "      <td>0</td>\n",
       "    </tr>\n",
       "    <tr>\n",
       "      <th>2018-11-13</th>\n",
       "      <td>104.69</td>\n",
       "      <td>105.85</td>\n",
       "      <td>103.81</td>\n",
       "      <td>104.10</td>\n",
       "      <td>35374600</td>\n",
       "      <td>0.0</td>\n",
       "      <td>0</td>\n",
       "    </tr>\n",
       "    <tr>\n",
       "      <th>...</th>\n",
       "      <td>...</td>\n",
       "      <td>...</td>\n",
       "      <td>...</td>\n",
       "      <td>...</td>\n",
       "      <td>...</td>\n",
       "      <td>...</td>\n",
       "      <td>...</td>\n",
       "    </tr>\n",
       "    <tr>\n",
       "      <th>2020-11-02</th>\n",
       "      <td>204.29</td>\n",
       "      <td>205.28</td>\n",
       "      <td>200.12</td>\n",
       "      <td>202.33</td>\n",
       "      <td>30842200</td>\n",
       "      <td>0.0</td>\n",
       "      <td>0</td>\n",
       "    </tr>\n",
       "    <tr>\n",
       "      <th>2020-11-03</th>\n",
       "      <td>203.89</td>\n",
       "      <td>208.12</td>\n",
       "      <td>203.12</td>\n",
       "      <td>206.43</td>\n",
       "      <td>27512000</td>\n",
       "      <td>0.0</td>\n",
       "      <td>0</td>\n",
       "    </tr>\n",
       "    <tr>\n",
       "      <th>2020-11-04</th>\n",
       "      <td>214.02</td>\n",
       "      <td>218.32</td>\n",
       "      <td>212.42</td>\n",
       "      <td>216.39</td>\n",
       "      <td>42311800</td>\n",
       "      <td>0.0</td>\n",
       "      <td>0</td>\n",
       "    </tr>\n",
       "    <tr>\n",
       "      <th>2020-11-05</th>\n",
       "      <td>222.04</td>\n",
       "      <td>224.12</td>\n",
       "      <td>221.15</td>\n",
       "      <td>223.29</td>\n",
       "      <td>36080100</td>\n",
       "      <td>0.0</td>\n",
       "      <td>0</td>\n",
       "    </tr>\n",
       "    <tr>\n",
       "      <th>2020-11-06</th>\n",
       "      <td>222.26</td>\n",
       "      <td>224.36</td>\n",
       "      <td>218.03</td>\n",
       "      <td>223.72</td>\n",
       "      <td>25210600</td>\n",
       "      <td>0.0</td>\n",
       "      <td>0</td>\n",
       "    </tr>\n",
       "  </tbody>\n",
       "</table>\n",
       "<p>504 rows × 7 columns</p>\n",
       "</div>"
      ],
      "text/plain": [
       "              Open    High     Low   Close    Volume  Dividends  Stock Splits\n",
       "Date                                                                         \n",
       "2018-11-07  106.53  109.26  106.50  108.99  37901700        0.0             0\n",
       "2018-11-08  108.83  109.23  107.97  108.78  25644100        0.0             0\n",
       "2018-11-09  107.91  108.49  105.87  106.66  32039200        0.0             0\n",
       "2018-11-12  106.51  107.04  103.28  104.03  33621800        0.0             0\n",
       "2018-11-13  104.69  105.85  103.81  104.10  35374600        0.0             0\n",
       "...            ...     ...     ...     ...       ...        ...           ...\n",
       "2020-11-02  204.29  205.28  200.12  202.33  30842200        0.0             0\n",
       "2020-11-03  203.89  208.12  203.12  206.43  27512000        0.0             0\n",
       "2020-11-04  214.02  218.32  212.42  216.39  42311800        0.0             0\n",
       "2020-11-05  222.04  224.12  221.15  223.29  36080100        0.0             0\n",
       "2020-11-06  222.26  224.36  218.03  223.72  25210600        0.0             0\n",
       "\n",
       "[504 rows x 7 columns]"
      ]
     },
     "execution_count": 132,
     "metadata": {},
     "output_type": "execute_result"
    }
   ],
   "source": [
    "msft.history(period='2y')"
   ]
  },
  {
   "cell_type": "code",
   "execution_count": 133,
   "metadata": {},
   "outputs": [],
   "source": [
    "df = msft.history(period='2y')['Open'].values\n",
    "df = df.reshape(-1,1)"
   ]
  },
  {
   "cell_type": "code",
   "execution_count": 134,
   "metadata": {},
   "outputs": [
    {
     "data": {
      "text/plain": [
       "(504, 1)"
      ]
     },
     "execution_count": 134,
     "metadata": {},
     "output_type": "execute_result"
    }
   ],
   "source": [
    "df.shape"
   ]
  },
  {
   "cell_type": "code",
   "execution_count": 135,
   "metadata": {},
   "outputs": [
    {
     "name": "stdout",
     "output_type": "stream",
     "text": [
      "(403, 1)\n",
      "(151, 1)\n"
     ]
    }
   ],
   "source": [
    "dataset_train = np.array(df[:int(df.shape[0]*0.8)])\n",
    "dataset_test = np.array(df[int(df.shape[0]*0.8)-50:])\n",
    "print(dataset_train.shape)\n",
    "print(dataset_test.shape)"
   ]
  },
  {
   "cell_type": "code",
   "execution_count": 136,
   "metadata": {},
   "outputs": [
    {
     "data": {
      "text/plain": [
       "array([[0.13567486],\n",
       "       [0.15875564],\n",
       "       [0.14952333],\n",
       "       [0.13547416],\n",
       "       [0.11721024],\n",
       "       [0.12714501],\n",
       "       [0.09663823]])"
      ]
     },
     "execution_count": 136,
     "metadata": {},
     "output_type": "execute_result"
    }
   ],
   "source": [
    "scaler = MinMaxScaler(feature_range=(0,1))\n",
    "dataset_train = scaler.fit_transform(dataset_train)\n",
    "dataset_train[:7]"
   ]
  },
  {
   "cell_type": "code",
   "execution_count": 137,
   "metadata": {},
   "outputs": [
    {
     "data": {
      "text/plain": [
       "array([[0.66713497],\n",
       "       [0.75965881],\n",
       "       [0.72052183],\n",
       "       [0.72744606],\n",
       "       [0.70737582],\n",
       "       [0.75373808],\n",
       "       [0.775715  ]])"
      ]
     },
     "execution_count": 137,
     "metadata": {},
     "output_type": "execute_result"
    }
   ],
   "source": [
    "dataset_test = scaler.transform(dataset_test)\n",
    "dataset_test[:7]"
   ]
  },
  {
   "cell_type": "code",
   "execution_count": 138,
   "metadata": {},
   "outputs": [],
   "source": [
    "def create_my_dataset(df):\n",
    "    x = []\n",
    "    y = []\n",
    "    for i in range(50, df.shape[0]):\n",
    "        x.append(df[i-50:i,0])\n",
    "        y.append(df[i,0])\n",
    "    x = np.array(x)\n",
    "    y = np.array(y)\n",
    "    return x,y"
   ]
  },
  {
   "cell_type": "code",
   "execution_count": 139,
   "metadata": {},
   "outputs": [
    {
     "name": "stdout",
     "output_type": "stream",
     "text": [
      "17650\n",
      "353\n"
     ]
    }
   ],
   "source": [
    "a = create_my_dataset(dataset_train)\n",
    "print(a[0].size)\n",
    "print(a[1].size)"
   ]
  },
  {
   "cell_type": "code",
   "execution_count": 140,
   "metadata": {},
   "outputs": [
    {
     "data": {
      "text/plain": [
       "array([[0.13567486, 0.15875564, 0.14952333, 0.13547416, 0.11721024,\n",
       "        0.12714501, 0.09663823, 0.11721024, 0.12885098, 0.065429  ,\n",
       "        0.08299047, 0.06904165, 0.09473156, 0.10928249, 0.12513798,\n",
       "        0.14902158, 0.15273457, 0.17521325, 0.16487707, 0.10486703,\n",
       "        0.12995484, 0.09483191, 0.14390366, 0.15454089, 0.14169594,\n",
       "        0.12865028, 0.10075263, 0.08449574, 0.08349222, 0.07767185,\n",
       "        0.06372303, 0.02498746, 0.        , 0.04084295, 0.06823884,\n",
       "        0.06041144, 0.04335173, 0.04867035, 0.04495735, 0.06382338,\n",
       "        0.0775715 , 0.0855996 , 0.07927747, 0.07897642, 0.06633216,\n",
       "        0.07235324, 0.09934772, 0.09673859, 0.12092323, 0.11389865]])"
      ]
     },
     "execution_count": 140,
     "metadata": {},
     "output_type": "execute_result"
    }
   ],
   "source": [
    "x_train, y_train = create_my_dataset(dataset_train)\n",
    "x_train[:1]"
   ]
  },
  {
   "cell_type": "code",
   "execution_count": 141,
   "metadata": {},
   "outputs": [
    {
     "data": {
      "text/plain": [
       "array([0.10777722])"
      ]
     },
     "execution_count": 141,
     "metadata": {},
     "output_type": "execute_result"
    }
   ],
   "source": [
    "y_train[:1]"
   ]
  },
  {
   "cell_type": "code",
   "execution_count": 142,
   "metadata": {},
   "outputs": [
    {
     "data": {
      "text/plain": [
       "array([[0.66713497, 0.75965881, 0.72052183, 0.72744606, 0.70737582,\n",
       "        0.75373808, 0.775715  , 0.80672353, 0.85860512, 0.82990467,\n",
       "        0.79869543, 0.77762168, 0.80481686, 0.78434521, 0.82950326,\n",
       "        0.81956849, 0.7958856 , 0.86362268, 0.82167587, 0.80863021,\n",
       "        0.8697441 , 0.88439538, 0.90526844, 0.91329654, 0.89503261,\n",
       "        0.93146011, 0.88901154, 0.83903663, 0.85418966, 0.92102358,\n",
       "        0.91379829, 0.91670848, 0.9226292 , 0.90055193, 0.93206222,\n",
       "        0.87064727, 0.87596588, 0.89593578, 0.8940291 , 0.91118916,\n",
       "        0.91680883, 0.91169092, 0.89483191, 0.92804817, 0.94872052,\n",
       "        0.98003011, 1.        , 0.97410938, 0.9144004 , 0.99759157]])"
      ]
     },
     "execution_count": 142,
     "metadata": {},
     "output_type": "execute_result"
    }
   ],
   "source": [
    "x_test, y_test = create_my_dataset(dataset_test)\n",
    "x_test[:1]"
   ]
  },
  {
   "cell_type": "code",
   "execution_count": 143,
   "metadata": {},
   "outputs": [
    {
     "name": "stdout",
     "output_type": "stream",
     "text": [
      "(353, 50, 1)\n",
      "(101, 50, 1)\n"
     ]
    }
   ],
   "source": [
    "#reshaping for LSTM\n",
    "x_train = np.reshape(x_train, (x_train.shape[0],x_train.shape[1],1))\n",
    "x_test = np.reshape(x_test, (x_test.shape[0], x_test.shape[1],1))\n",
    "print(x_train.shape)\n",
    "print(x_test.shape)\n"
   ]
  },
  {
   "cell_type": "code",
   "execution_count": 144,
   "metadata": {},
   "outputs": [],
   "source": [
    "tf.compat.v1.logging.set_verbosity(tf.compat.v1.logging.ERROR)\n",
    "model = Sequential()\n",
    "model.add(LSTM(units=96, return_sequences=True, input_shape=(x_train.shape[1],1)))\n",
    "model.add(Dropout(0.2))\n",
    "model.add(LSTM(units=96, return_sequences=True))\n",
    "model.add(Dropout(0.2))\n",
    "model.add(LSTM(units=96))\n",
    "model.add(Dropout(0.2))\n",
    "model.add(Dense(units=1))"
   ]
  },
  {
   "cell_type": "code",
   "execution_count": 145,
   "metadata": {},
   "outputs": [
    {
     "name": "stdout",
     "output_type": "stream",
     "text": [
      "Model: \"sequential_6\"\n",
      "_________________________________________________________________\n",
      "Layer (type)                 Output Shape              Param #   \n",
      "=================================================================\n",
      "lstm_16 (LSTM)               (None, 50, 96)            37632     \n",
      "_________________________________________________________________\n",
      "dropout_16 (Dropout)         (None, 50, 96)            0         \n",
      "_________________________________________________________________\n",
      "lstm_17 (LSTM)               (None, 50, 96)            74112     \n",
      "_________________________________________________________________\n",
      "dropout_17 (Dropout)         (None, 50, 96)            0         \n",
      "_________________________________________________________________\n",
      "lstm_18 (LSTM)               (None, 96)                74112     \n",
      "_________________________________________________________________\n",
      "dropout_18 (Dropout)         (None, 96)                0         \n",
      "_________________________________________________________________\n",
      "dense_6 (Dense)              (None, 1)                 97        \n",
      "=================================================================\n",
      "Total params: 185,953\n",
      "Trainable params: 185,953\n",
      "Non-trainable params: 0\n",
      "_________________________________________________________________\n"
     ]
    }
   ],
   "source": [
    "model.summary()"
   ]
  },
  {
   "cell_type": "code",
   "execution_count": 146,
   "metadata": {},
   "outputs": [],
   "source": [
    "model.compile(loss='mean_squared_error', optimizer='adam')"
   ]
  },
  {
   "cell_type": "code",
   "execution_count": 147,
   "metadata": {},
   "outputs": [
    {
     "name": "stdout",
     "output_type": "stream",
     "text": [
      "Epoch 1/20\n",
      "353/353 [==============================] - 11s 31ms/step - loss: 0.1317\n",
      "Epoch 2/20\n",
      "353/353 [==============================] - 4s 10ms/step - loss: 0.0326\n",
      "Epoch 3/20\n",
      "353/353 [==============================] - 3s 10ms/step - loss: 0.0170\n",
      "Epoch 4/20\n",
      "353/353 [==============================] - 4s 12ms/step - loss: 0.0141\n",
      "Epoch 5/20\n",
      "353/353 [==============================] - 4s 12ms/step - loss: 0.0124\n",
      "Epoch 6/20\n",
      "353/353 [==============================] - 4s 12ms/step - loss: 0.0095\n",
      "Epoch 7/20\n",
      "353/353 [==============================] - 5s 13ms/step - loss: 0.0071\n",
      "Epoch 8/20\n",
      "353/353 [==============================] - 4s 12ms/step - loss: 0.0074\n",
      "Epoch 9/20\n",
      "353/353 [==============================] - 5s 13ms/step - loss: 0.0072\n",
      "Epoch 10/20\n",
      "353/353 [==============================] - 4s 11ms/step - loss: 0.0059\n",
      "Epoch 11/20\n",
      "353/353 [==============================] - 4s 11ms/step - loss: 0.0072\n",
      "Epoch 12/20\n",
      "353/353 [==============================] - 4s 11ms/step - loss: 0.0076\n",
      "Epoch 13/20\n",
      "353/353 [==============================] - 4s 11ms/step - loss: 0.0063\n",
      "Epoch 14/20\n",
      "353/353 [==============================] - 4s 12ms/step - loss: 0.0065\n",
      "Epoch 15/20\n",
      "353/353 [==============================] - 4s 12ms/step - loss: 0.0061\n",
      "Epoch 16/20\n",
      "353/353 [==============================] - 4s 11ms/step - loss: 0.0063\n",
      "Epoch 17/20\n",
      "353/353 [==============================] - 4s 13ms/step - loss: 0.0066\n",
      "Epoch 18/20\n",
      "353/353 [==============================] - 4s 12ms/step - loss: 0.0059\n",
      "Epoch 19/20\n",
      "353/353 [==============================] - 4s 11ms/step - loss: 0.0057\n",
      "Epoch 20/20\n",
      "353/353 [==============================] - 4s 11ms/step - loss: 0.0061\n"
     ]
    }
   ],
   "source": [
    "if(not os.path.exists('stock_prediction_EPBS_20_64.h5')):\n",
    "    model.fit(x_train, y_train, epochs=20, batch_size=64)\n",
    "    model.save('stock_prediction_EPBS_20_64.h5')"
   ]
  },
  {
   "cell_type": "code",
   "execution_count": 148,
   "metadata": {},
   "outputs": [
    {
     "name": "stdout",
     "output_type": "stream",
     "text": [
      "Train: 0.003751866409961377 \n"
     ]
    }
   ],
   "source": [
    "train_acc = model.evaluate(x_train, y_train, verbose = 0)\n",
    "print(f'Train: {train_acc} ')"
   ]
  },
  {
   "cell_type": "code",
   "execution_count": 149,
   "metadata": {},
   "outputs": [
    {
     "name": "stdout",
     "output_type": "stream",
     "text": [
      "range(403, 504)\n"
     ]
    },
    {
     "data": {
      "image/png": "[encoded data removed]",
      "text/plain": [
       "<Figure size 576x288 with 1 Axes>"
      ]
     },
     "metadata": {
      "needs_background": "light"
     },
     "output_type": "display_data"
    }
   ],
   "source": [
    "#visualizing our predictions\n",
    "%matplotlib inline\n",
    "predictions = model.predict(x_test)\n",
    "predictions = scaler.inverse_transform(predictions)\n",
    "\n",
    "fig, ax = plt.subplots(figsize=(8,4))\n",
    "plt.plot(df, color='red', label='Original Stockprice')\n",
    "ax.plot(range(len(y_train)+50,len(y_train)+50+len(predictions)),predictions,color='blue',label='predicted')\n",
    "plt.legend()\n",
    "plt.savefig('full_image_EPBS_20_64.png')\n",
    "print(range(len(y_train)+50,len(y_train)+50+len(predictions)))"
   ]
  },
  {
   "cell_type": "code",
   "execution_count": 150,
   "metadata": {},
   "outputs": [
    {
     "data": {
      "text/plain": [
       "array([[207.06],\n",
       "       [210.51],\n",
       "       [211.23],\n",
       "       [218.79],\n",
       "       [222.72],\n",
       "       [223.  ],\n",
       "       [217.1 ],\n",
       "       [220.15],\n",
       "       [220.42],\n",
       "       [215.8 ],\n",
       "       [213.12],\n",
       "       [213.93],\n",
       "       [215.03],\n",
       "       [213.85],\n",
       "       [211.59],\n",
       "       [207.67],\n",
       "       [204.07],\n",
       "       [203.5 ],\n",
       "       [204.29],\n",
       "       [203.89],\n",
       "       [214.02],\n",
       "       [222.04],\n",
       "       [222.26]])"
      ]
     },
     "execution_count": 150,
     "metadata": {},
     "output_type": "execute_result"
    }
   ],
   "source": [
    "msft.history('1mo')['Open'].values.reshape(-1,1)"
   ]
  },
  {
   "cell_type": "code",
   "execution_count": 151,
   "metadata": {},
   "outputs": [
    {
     "data": {
      "image/png": "[encoded data removed]",
      "text/plain": [
       "<Figure size 576x288 with 1 Axes>"
      ]
     },
     "metadata": {
      "needs_background": "light"
     },
     "output_type": "display_data"
    }
   ],
   "source": [
    "y_test_scaled = scaler.inverse_transform(y_test.reshape(-1,1))\n",
    "\n",
    "fig, ax = plt.subplots(figsize=(8,4))\n",
    "ax.plot(y_test_scaled, color='red', label='True Price of testing set')\n",
    "plt.plot(predictions,color='blue',label='predicted')\n",
    "plt.legend()\n",
    "plt.savefig('predict_image_EPBS_20_64.png')"
   ]
  },
  {
   "cell_type": "code",
   "execution_count": null,
   "metadata": {},
   "outputs": [],
   "source": []
  }
 ],
 "metadata": {
  "kernelspec": {
   "display_name": "Python 3",
   "language": "python",
   "name": "python3"
  },
  "language_info": {
   "codemirror_mode": {
    "name": "ipython",
    "version": 3
   },
   "file_extension": ".py",
   "mimetype": "text/x-python",
   "name": "python",
   "nbconvert_exporter": "python",
   "pygments_lexer": "ipython3",
   "version": "3.6.10"
  }
 },
 "nbformat": 4,
 "nbformat_minor": 4
}
