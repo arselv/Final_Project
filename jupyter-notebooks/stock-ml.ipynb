{
 "cells": [
  {
   "cell_type": "code",
   "execution_count": 1,
   "metadata": {},
   "outputs": [
    {
     "name": "stderr",
     "output_type": "stream",
     "text": [
      "Using TensorFlow backend.\n"
     ]
    }
   ],
   "source": [
    "# Dependencies\n",
    "import warnings\n",
    "warnings.filterwarnings('ignore', category=DeprecationWarning)\n",
    "warnings.filterwarnings('ignore', category=FutureWarning)\n",
    "import numpy as np\n",
    "import json\n",
    "import pandas as pd\n",
    "import matplotlib.pyplot as plt\n",
    "from sklearn.preprocessing import MinMaxScaler\n",
    "from keras.models import Sequential, load_model\n",
    "from keras.layers import LSTM, Dense, Dropout\n",
    "import os\n",
    "import tensorflow as tf"
   ]
  },
  {
   "cell_type": "code",
   "execution_count": 2,
   "metadata": {},
   "outputs": [
    {
     "data": {
      "text/html": [
       "<div>\n",
       "<style scoped>\n",
       "    .dataframe tbody tr th:only-of-type {\n",
       "        vertical-align: middle;\n",
       "    }\n",
       "\n",
       "    .dataframe tbody tr th {\n",
       "        vertical-align: top;\n",
       "    }\n",
       "\n",
       "    .dataframe thead th {\n",
       "        text-align: right;\n",
       "    }\n",
       "</style>\n",
       "<table border=\"1\" class=\"dataframe\">\n",
       "  <thead>\n",
       "    <tr style=\"text-align: right;\">\n",
       "      <th></th>\n",
       "      <th>Open</th>\n",
       "      <th>High</th>\n",
       "      <th>Low</th>\n",
       "      <th>Close</th>\n",
       "      <th>Volume</th>\n",
       "      <th>Dividends</th>\n",
       "      <th>Stock Splits</th>\n",
       "    </tr>\n",
       "    <tr>\n",
       "      <th>Date</th>\n",
       "      <th></th>\n",
       "      <th></th>\n",
       "      <th></th>\n",
       "      <th></th>\n",
       "      <th></th>\n",
       "      <th></th>\n",
       "      <th></th>\n",
       "    </tr>\n",
       "  </thead>\n",
       "  <tbody>\n",
       "    <tr>\n",
       "      <th>2015-11-16</th>\n",
       "      <td>25.588095</td>\n",
       "      <td>26.245143</td>\n",
       "      <td>25.500796</td>\n",
       "      <td>26.231359</td>\n",
       "      <td>152426800</td>\n",
       "      <td>0.0</td>\n",
       "      <td>0.0</td>\n",
       "    </tr>\n",
       "    <tr>\n",
       "      <th>2015-11-17</th>\n",
       "      <td>26.401363</td>\n",
       "      <td>26.431230</td>\n",
       "      <td>26.033784</td>\n",
       "      <td>26.118788</td>\n",
       "      <td>110467600</td>\n",
       "      <td>0.0</td>\n",
       "      <td>0.0</td>\n",
       "    </tr>\n",
       "    <tr>\n",
       "      <th>2015-11-18</th>\n",
       "      <td>26.594344</td>\n",
       "      <td>26.991788</td>\n",
       "      <td>26.534612</td>\n",
       "      <td>26.945841</td>\n",
       "      <td>186698800</td>\n",
       "      <td>0.0</td>\n",
       "      <td>0.0</td>\n",
       "    </tr>\n",
       "    <tr>\n",
       "      <th>2015-11-19</th>\n",
       "      <td>27.026249</td>\n",
       "      <td>27.510994</td>\n",
       "      <td>26.824081</td>\n",
       "      <td>27.288149</td>\n",
       "      <td>173183200</td>\n",
       "      <td>0.0</td>\n",
       "      <td>0.0</td>\n",
       "    </tr>\n",
       "    <tr>\n",
       "      <th>2015-11-20</th>\n",
       "      <td>27.384641</td>\n",
       "      <td>27.550051</td>\n",
       "      <td>27.304233</td>\n",
       "      <td>27.407616</td>\n",
       "      <td>137148400</td>\n",
       "      <td>0.0</td>\n",
       "      <td>0.0</td>\n",
       "    </tr>\n",
       "    <tr>\n",
       "      <th>...</th>\n",
       "      <td>...</td>\n",
       "      <td>...</td>\n",
       "      <td>...</td>\n",
       "      <td>...</td>\n",
       "      <td>...</td>\n",
       "      <td>...</td>\n",
       "      <td>...</td>\n",
       "    </tr>\n",
       "    <tr>\n",
       "      <th>2020-11-09</th>\n",
       "      <td>120.500000</td>\n",
       "      <td>121.989998</td>\n",
       "      <td>116.050003</td>\n",
       "      <td>116.320000</td>\n",
       "      <td>154515300</td>\n",
       "      <td>0.0</td>\n",
       "      <td>0.0</td>\n",
       "    </tr>\n",
       "    <tr>\n",
       "      <th>2020-11-10</th>\n",
       "      <td>115.550003</td>\n",
       "      <td>117.589996</td>\n",
       "      <td>114.129997</td>\n",
       "      <td>115.970001</td>\n",
       "      <td>138023400</td>\n",
       "      <td>0.0</td>\n",
       "      <td>0.0</td>\n",
       "    </tr>\n",
       "    <tr>\n",
       "      <th>2020-11-11</th>\n",
       "      <td>117.190002</td>\n",
       "      <td>119.629997</td>\n",
       "      <td>116.440002</td>\n",
       "      <td>119.489998</td>\n",
       "      <td>112295000</td>\n",
       "      <td>0.0</td>\n",
       "      <td>0.0</td>\n",
       "    </tr>\n",
       "    <tr>\n",
       "      <th>2020-11-12</th>\n",
       "      <td>119.620003</td>\n",
       "      <td>120.529999</td>\n",
       "      <td>118.570000</td>\n",
       "      <td>119.209999</td>\n",
       "      <td>103162300</td>\n",
       "      <td>0.0</td>\n",
       "      <td>0.0</td>\n",
       "    </tr>\n",
       "    <tr>\n",
       "      <th>2020-11-13</th>\n",
       "      <td>119.440002</td>\n",
       "      <td>119.669998</td>\n",
       "      <td>117.870003</td>\n",
       "      <td>119.260002</td>\n",
       "      <td>78857203</td>\n",
       "      <td>0.0</td>\n",
       "      <td>0.0</td>\n",
       "    </tr>\n",
       "  </tbody>\n",
       "</table>\n",
       "<p>1259 rows × 7 columns</p>\n",
       "</div>"
      ],
      "text/plain": [
       "                  Open        High         Low       Close     Volume  \\\n",
       "Date                                                                    \n",
       "2015-11-16   25.588095   26.245143   25.500796   26.231359  152426800   \n",
       "2015-11-17   26.401363   26.431230   26.033784   26.118788  110467600   \n",
       "2015-11-18   26.594344   26.991788   26.534612   26.945841  186698800   \n",
       "2015-11-19   27.026249   27.510994   26.824081   27.288149  173183200   \n",
       "2015-11-20   27.384641   27.550051   27.304233   27.407616  137148400   \n",
       "...                ...         ...         ...         ...        ...   \n",
       "2020-11-09  120.500000  121.989998  116.050003  116.320000  154515300   \n",
       "2020-11-10  115.550003  117.589996  114.129997  115.970001  138023400   \n",
       "2020-11-11  117.190002  119.629997  116.440002  119.489998  112295000   \n",
       "2020-11-12  119.620003  120.529999  118.570000  119.209999  103162300   \n",
       "2020-11-13  119.440002  119.669998  117.870003  119.260002   78857203   \n",
       "\n",
       "            Dividends  Stock Splits  \n",
       "Date                                 \n",
       "2015-11-16        0.0           0.0  \n",
       "2015-11-17        0.0           0.0  \n",
       "2015-11-18        0.0           0.0  \n",
       "2015-11-19        0.0           0.0  \n",
       "2015-11-20        0.0           0.0  \n",
       "...               ...           ...  \n",
       "2020-11-09        0.0           0.0  \n",
       "2020-11-10        0.0           0.0  \n",
       "2020-11-11        0.0           0.0  \n",
       "2020-11-12        0.0           0.0  \n",
       "2020-11-13        0.0           0.0  \n",
       "\n",
       "[1259 rows x 7 columns]"
      ]
     },
     "execution_count": 2,
     "metadata": {},
     "output_type": "execute_result"
    }
   ],
   "source": [
    "import yfinance as yf\n",
    "\n",
    "tickerStr = \"AAPL\"\n",
    "ticker = yf.Ticker(tickerStr)\n",
    "df = ticker.history(period='5y')\n",
    "df"
   ]
  },
  {
   "cell_type": "code",
   "execution_count": 3,
   "metadata": {},
   "outputs": [],
   "source": [
    "df = df['Close'].values"
   ]
  },
  {
   "cell_type": "code",
   "execution_count": 4,
   "metadata": {},
   "outputs": [
    {
     "data": {
      "text/plain": [
       "(1259, 1)"
      ]
     },
     "execution_count": 4,
     "metadata": {},
     "output_type": "execute_result"
    }
   ],
   "source": [
    "df = df.reshape(-1, 1)\n",
    "df.shape"
   ]
  },
  {
   "cell_type": "code",
   "execution_count": 5,
   "metadata": {},
   "outputs": [
    {
     "name": "stdout",
     "output_type": "stream",
     "text": [
      "(1007, 1)\n",
      "(302, 1)\n"
     ]
    }
   ],
   "source": [
    "dataset_train = np.array(df[:int(df.shape[0]*0.8)])\n",
    "dataset_test = np.array(df[int(df.shape[0]*0.8)-50:])\n",
    "#dataset_test = np.array(df[int(df.shape[0]*0.8):])\n",
    "print(dataset_train.shape)\n",
    "print(dataset_test.shape)"
   ]
  },
  {
   "cell_type": "code",
   "execution_count": 7,
   "metadata": {},
   "outputs": [
    {
     "data": {
      "text/plain": [
       "array([[0.11896131],\n",
       "       [0.11640431],\n",
       "       [0.13519032],\n",
       "       [0.14296563],\n",
       "       [0.14567925],\n",
       "       [0.1375907 ],\n",
       "       [0.14348747]])"
      ]
     },
     "execution_count": 7,
     "metadata": {},
     "output_type": "execute_result"
    }
   ],
   "source": [
    "scaler = MinMaxScaler(feature_range=(0,1))\n",
    "dataset_train = scaler.fit_transform(dataset_train)\n",
    "dataset_train[:7]"
   ]
  },
  {
   "cell_type": "code",
   "execution_count": 8,
   "metadata": {},
   "outputs": [
    {
     "data": {
      "text/plain": [
       "array([[52.27231598],\n",
       "       [52.49536514],\n",
       "       [53.11549377],\n",
       "       [54.80430984],\n",
       "       [54.68175507],\n",
       "       [53.61797333],\n",
       "       [53.89984894]])"
      ]
     },
     "execution_count": 8,
     "metadata": {},
     "output_type": "execute_result"
    }
   ],
   "source": [
    "dataset_test = scaler.transform(dataset_test)\n",
    "dataset_test[:7]"
   ]
  },
  {
   "cell_type": "code",
   "execution_count": 9,
   "metadata": {},
   "outputs": [],
   "source": [
    "def create_my_dataset(df):\n",
    "    x = []\n",
    "    y = []\n",
    "    for i in range(50, df.shape[0]):\n",
    "        x.append(df[i-50:i,0])\n",
    "        y.append(df[i,0])\n",
    "    x = np.array(x)\n",
    "    y = np.array(y)\n",
    "    return x,y\n",
    "\n",
    "x_train, y_train = create_my_dataset(dataset_train)\n",
    "x_test, y_test = create_my_dataset(dataset_test)"
   ]
  },
  {
   "cell_type": "code",
   "execution_count": 10,
   "metadata": {},
   "outputs": [
    {
     "data": {
      "text/plain": [
       "array([[0.11896131, 0.11640431, 0.13519032, 0.14296563, 0.14567925,\n",
       "        0.1375907 , 0.14348747, 0.13905185, 0.13790389, 0.14046075,\n",
       "        0.13545121, 0.12991975, 0.12428404, 0.14427017, 0.14035656,\n",
       "        0.14009557, 0.12647564, 0.12934574, 0.11374299, 0.11009019,\n",
       "        0.09970558, 0.10414121, 0.09182603, 0.07643196, 0.08321572,\n",
       "        0.08269392, 0.08989519, 0.08686852, 0.08055435, 0.09057352,\n",
       "        0.08316347, 0.07241377, 0.07288345, 0.05910707, 0.04861822,\n",
       "        0.02644019, 0.02910173, 0.03729443, 0.0447566 , 0.03134545,\n",
       "        0.04246046, 0.02998862, 0.02753616, 0.02821453, 0.02565754,\n",
       "        0.05237539, 0.04204312, 0.04491313, 0.01062865, 0.01412501]])"
      ]
     },
     "execution_count": 10,
     "metadata": {},
     "output_type": "execute_result"
    }
   ],
   "source": [
    "x_train, y_train = create_my_dataset(dataset_train)\n",
    "x_train[:1]"
   ]
  },
  {
   "cell_type": "code",
   "execution_count": 11,
   "metadata": {},
   "outputs": [
    {
     "data": {
      "text/plain": [
       "array([0.03108455])"
      ]
     },
     "execution_count": 11,
     "metadata": {},
     "output_type": "execute_result"
    }
   ],
   "source": [
    "y_train[:1]"
   ]
  },
  {
   "cell_type": "code",
   "execution_count": 12,
   "metadata": {},
   "outputs": [
    {
     "data": {
      "text/plain": [
       "array([[52.27231598, 52.49536514, 53.11549377, 54.80430984, 54.68175507,\n",
       "        53.61797333, 53.89984894, 54.09594345, 54.60332108, 54.1596756 ,\n",
       "        53.36795807, 53.61062241, 53.35570526, 54.17682648, 53.89740372,\n",
       "        53.63513184, 54.89745331, 55.0494194 , 53.66944504, 54.12535095,\n",
       "        55.64258957, 55.65484619, 55.00284958, 55.64749146, 56.3975296 ,\n",
       "        57.89760971, 57.81427002, 57.67946243, 57.44660568, 57.66965485,\n",
       "        57.94663239, 58.95158386, 58.81677628, 59.6060257 , 59.70407104,\n",
       "        60.43940735, 61.04482651, 59.63299179, 59.62563705, 60.97374344,\n",
       "        62.70423126, 63.11600494, 63.02532578, 63.05228424, 63.77999115,\n",
       "        63.95454407, 64.46099091, 64.40197754, 65.0190506 , 64.56916046]])"
      ]
     },
     "execution_count": 12,
     "metadata": {},
     "output_type": "execute_result"
    }
   ],
   "source": [
    "x_test, y_test = create_my_dataset(dataset_test)\n",
    "x_test[:1]"
   ]
  },
  {
   "cell_type": "code",
   "execution_count": 13,
   "metadata": {},
   "outputs": [
    {
     "data": {
      "text/plain": [
       "array([65.33621216])"
      ]
     },
     "execution_count": 13,
     "metadata": {},
     "output_type": "execute_result"
    }
   ],
   "source": [
    "y_test[:1]"
   ]
  },
  {
   "cell_type": "code",
   "execution_count": 14,
   "metadata": {},
   "outputs": [
    {
     "name": "stdout",
     "output_type": "stream",
     "text": [
      "(957, 50, 1)\n",
      "(252, 50, 1)\n"
     ]
    }
   ],
   "source": [
    "#reshaping for LSTM\n",
    "x_train = np.reshape(x_train, (x_train.shape[0],x_train.shape[1],1))\n",
    "x_test = np.reshape(x_test, (x_test.shape[0], x_test.shape[1],1))\n",
    "print(x_train.shape)\n",
    "print(x_test.shape)"
   ]
  },
  {
   "cell_type": "code",
   "execution_count": 15,
   "metadata": {},
   "outputs": [],
   "source": [
    "tf.logging.set_verbosity(tf.logging.ERROR)\n",
    "model = Sequential()\n",
    "model.add(LSTM(units=96, return_sequences=True, input_shape=(x_train.shape[1],1)))\n",
    "#model.add(Dropout(0.2))\n",
    "model.add(LSTM(units=96, return_sequences=True))\n",
    "#model.add(Dropout(0.2))\n",
    "model.add(LSTM(units=96))\n",
    "#model.add(Dropout(0.2))\n",
    "model.add(Dense(units=1))"
   ]
  },
  {
   "cell_type": "code",
   "execution_count": 16,
   "metadata": {},
   "outputs": [
    {
     "name": "stdout",
     "output_type": "stream",
     "text": [
      "Model: \"sequential_1\"\n",
      "_________________________________________________________________\n",
      "Layer (type)                 Output Shape              Param #   \n",
      "=================================================================\n",
      "lstm_1 (LSTM)                (None, 50, 96)            37632     \n",
      "_________________________________________________________________\n",
      "lstm_2 (LSTM)                (None, 50, 96)            74112     \n",
      "_________________________________________________________________\n",
      "lstm_3 (LSTM)                (None, 96)                74112     \n",
      "_________________________________________________________________\n",
      "dense_1 (Dense)              (None, 1)                 97        \n",
      "=================================================================\n",
      "Total params: 185,953\n",
      "Trainable params: 185,953\n",
      "Non-trainable params: 0\n",
      "_________________________________________________________________\n"
     ]
    }
   ],
   "source": [
    "model.summary()"
   ]
  },
  {
   "cell_type": "code",
   "execution_count": 18,
   "metadata": {},
   "outputs": [
    {
     "name": "stdout",
     "output_type": "stream",
     "text": [
      "Epoch 1/10\n",
      "957/957 [==============================] - 3s 3ms/step - loss: 0.0058\n",
      "Epoch 2/10\n",
      "957/957 [==============================] - 2s 2ms/step - loss: 0.0010\n",
      "Epoch 3/10\n",
      "957/957 [==============================] - 2s 2ms/step - loss: 8.9917e-04\n",
      "Epoch 4/10\n",
      "957/957 [==============================] - 2s 2ms/step - loss: 8.1232e-04\n",
      "Epoch 5/10\n",
      "957/957 [==============================] - 2s 2ms/step - loss: 7.9687e-04\n",
      "Epoch 6/10\n",
      "957/957 [==============================] - 2s 2ms/step - loss: 7.8960e-04\n",
      "Epoch 7/10\n",
      "957/957 [==============================] - 2s 2ms/step - loss: 7.5217e-04\n",
      "Epoch 8/10\n",
      "957/957 [==============================] - 2s 2ms/step - loss: 6.6689e-04\n",
      "Epoch 9/10\n",
      "957/957 [==============================] - 2s 2ms/step - loss: 7.4289e-04\n",
      "Epoch 10/10\n",
      "957/957 [==============================] - 2s 2ms/step - loss: 6.3168e-04\n"
     ]
    }
   ],
   "source": [
    "epochNum = 10\n",
    "model.compile(loss='mean_squared_error', optimizer='adam')\n",
    "model.fit(x_train, y_train, epochs=epochNum, batch_size=32)\n",
    "model.save(os.path.join(\"..\",\"static\",\"models\",f\"{tickerStr}.h5\"))"
   ]
  },
  {
   "cell_type": "code",
   "execution_count": null,
   "metadata": {},
   "outputs": [],
   "source": [
    "if(not os.path.exists('C:\\code\\ML\\mfst.h5')):\n",
    "    model.fit(x_train, y_train, epochs=50, batch_size=32)\n",
    "    model.save(os.join(\"..\",\"static\",\"models\",f\"{tickerStr}.h5\"))\n",
    "else:\n",
    "    model = load_model('stock_prediction.h5')"
   ]
  },
  {
   "cell_type": "code",
   "execution_count": null,
   "metadata": {},
   "outputs": [],
   "source": [
    "#visualizing our predictions\n",
    "%matplotlib inline\n",
    "predictions = model.predict(x_test)\n",
    "predictions = scaler.inverse_transform(predictions)\n",
    "\n",
    "fig, ax = plt.subplots(figsize=(8,4))\n",
    "plt.plot(df, color='red', label='Original Stockprice')\n",
    "ax.plot(range(len(y_train)+50,len(y_train)+50+len(predictions)),predictions,color='blue',label='predicted')\n",
    "plt.legend()\n",
    "print(range(len(y_train)+50,len(y_train)+50+len(predictions)))"
   ]
  },
  {
   "cell_type": "code",
   "execution_count": null,
   "metadata": {},
   "outputs": [],
   "source": [
    "msft.history('1mo')['Open'].values.reshape(-1,1)"
   ]
  },
  {
   "cell_type": "code",
   "execution_count": null,
   "metadata": {},
   "outputs": [],
   "source": [
    "predictions_prepended = [0 for i in range(0,df.shape[0]-len(predictions))]\n",
    "predictions_prepended.extend(predictions.flatten().tolist())\n",
    "graph1 = pd.DataFrame({\n",
    "    \"closing_prices\": df.flatten().tolist(),\n",
    "    \"predicted_prices\": predictions_prepended,\n",
    "})\n",
    "graph1.to_csv('graph_1.csv',index_label=\"Index\")"
   ]
  },
  {
   "cell_type": "code",
   "execution_count": null,
   "metadata": {},
   "outputs": [],
   "source": [
    "graph1.to_csv('graph_1.csv',index_label=\"Index\")"
   ]
  },
  {
   "cell_type": "code",
   "execution_count": null,
   "metadata": {},
   "outputs": [],
   "source": [
    "y_test_scaled = scaler.inverse_transform(y_test.reshape(-1,1))\n",
    "\n",
    "fig, ax = plt.subplots(figsize=(8,4))\n",
    "ax.plot(y_test_scaled, color='red', label='True Price of testing set')\n",
    "plt.plot(predictions,color='blue',label='predicted')\n",
    "plt.legend()\n",
    "plt.savefig('image.png')"
   ]
  },
  {
   "cell_type": "code",
   "execution_count": null,
   "metadata": {},
   "outputs": [],
   "source": []
  }
 ],
 "metadata": {
  "kernelspec": {
   "display_name": "Python 3.6.10 64-bit ('PythonData': conda)",
   "language": "python",
   "name": "python361064bitpythondataconda13c33e7d00474160b8916212f83fb86d"
  },
  "language_info": {
   "codemirror_mode": {
    "name": "ipython",
    "version": 3
   },
   "file_extension": ".py",
   "mimetype": "text/x-python",
   "name": "python",
   "nbconvert_exporter": "python",
   "pygments_lexer": "ipython3",
   "version": "3.6.11"
  }
 },
 "nbformat": 4,
 "nbformat_minor": 4
}
