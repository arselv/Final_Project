{
 "cells": [
  {
   "cell_type": "code",
   "execution_count": 40,
   "metadata": {},
   "outputs": [],
   "source": [
    "import numpy as np\n",
    "import json\n",
    "import pandas as pd\n",
    "import matplotlib.pyplot as plt\n",
    "from sklearn.preprocessing import MinMaxScaler\n",
    "from keras.models import Sequential, load_model\n",
    "from keras.layers import LSTM, Dense, Dropout\n",
    "import os\n",
    "import tensorflow as tf"
   ]
  },
  {
   "cell_type": "code",
   "execution_count": 62,
   "metadata": {},
   "outputs": [],
   "source": [
    "import yfinance as yf\n",
    "\n",
    "tickerStr = \"AAPL\"\n",
    "ticker = yf.Ticker(tickerStr)\n",
    "df = ticker.history(period='5y')['Close'].values\n",
    "df = df.reshape(-1, 1)"
   ]
  },
  {
   "cell_type": "code",
   "execution_count": 63,
   "metadata": {},
   "outputs": [
    {
     "data": {
      "text/plain": [
       "(1259, 1)"
      ]
     },
     "execution_count": 63,
     "metadata": {},
     "output_type": "execute_result"
    }
   ],
   "source": [
    "df.shape"
   ]
  },
  {
   "cell_type": "code",
   "execution_count": 64,
   "metadata": {},
   "outputs": [
    {
     "name": "stdout",
     "output_type": "stream",
     "text": [
      "(1007, 1)\n",
      "(302, 1)\n"
     ]
    }
   ],
   "source": [
    "dataset_train = np.array(df[:int(df.shape[0]*0.8)])\n",
    "dataset_test = np.array(df[int(df.shape[0]*0.8)-50:])\n",
    "#dataset_test = np.array(df[int(df.shape[0]*0.8):])\n",
    "print(dataset_train.shape)\n",
    "print(dataset_test.shape)"
   ]
  },
  {
   "cell_type": "code",
   "execution_count": 65,
   "metadata": {},
   "outputs": [
    {
     "data": {
      "text/plain": [
       "array([[0.13068925],\n",
       "       [0.12862806],\n",
       "       [0.11076356],\n",
       "       [0.12048862],\n",
       "       [0.11789879],\n",
       "       [0.13692599],\n",
       "       [0.14480113]])"
      ]
     },
     "execution_count": 65,
     "metadata": {},
     "output_type": "execute_result"
    }
   ],
   "source": [
    "scaler = MinMaxScaler(feature_range=(0,1))\n",
    "dataset_train = scaler.fit_transform(dataset_train)\n",
    "dataset_train[:7]"
   ]
  },
  {
   "cell_type": "code",
   "execution_count": 66,
   "metadata": {},
   "outputs": [
    {
     "data": {
      "text/plain": [
       "array([[0.67695607],\n",
       "       [0.69663638],\n",
       "       [0.71969996],\n",
       "       [0.71958719],\n",
       "       [0.72471866],\n",
       "       [0.73898535],\n",
       "       [0.77783827]])"
      ]
     },
     "execution_count": 66,
     "metadata": {},
     "output_type": "execute_result"
    }
   ],
   "source": [
    "dataset_test = scaler.transform(dataset_test)\n",
    "dataset_test[:7]"
   ]
  },
  {
   "cell_type": "code",
   "execution_count": 67,
   "metadata": {},
   "outputs": [],
   "source": [
    "def create_my_dataset(df):\n",
    "    x = []\n",
    "    y = []\n",
    "    for i in range(50, df.shape[0]):\n",
    "        x.append(df[i-50:i,0])\n",
    "        y.append(df[i,0])\n",
    "    x = np.array(x)\n",
    "    y = np.array(y)\n",
    "    return x,y"
   ]
  },
  {
   "cell_type": "code",
   "execution_count": 68,
   "metadata": {},
   "outputs": [
    {
     "data": {
      "text/plain": [
       "array([[0.13068925, 0.12862806, 0.11076356, 0.12048862, 0.11789879,\n",
       "        0.13692599, 0.14480113, 0.14754958, 0.13935719, 0.14532967,\n",
       "        0.1408371 , 0.1396744 , 0.14226409, 0.13719024, 0.13158775,\n",
       "        0.12587969, 0.14612242, 0.14215856, 0.14189422, 0.12809943,\n",
       "        0.13100638, 0.1152033 , 0.11150361, 0.10098567, 0.10547825,\n",
       "        0.09300495, 0.07741325, 0.0842841 , 0.08375561, 0.09104933,\n",
       "        0.0879838 , 0.08158857, 0.09173637, 0.08423118, 0.07334347,\n",
       "        0.07381918, 0.05986593, 0.04924242, 0.02677965, 0.02947536,\n",
       "        0.03777324, 0.04533122, 0.03174788, 0.0430056 , 0.03037363,\n",
       "        0.02788969, 0.02857677, 0.02598695, 0.05304782, 0.0425829 ]])"
      ]
     },
     "execution_count": 68,
     "metadata": {},
     "output_type": "execute_result"
    }
   ],
   "source": [
    "x_train, y_train = create_my_dataset(dataset_train)\n",
    "x_train[:1]"
   ]
  },
  {
   "cell_type": "code",
   "execution_count": 50,
   "metadata": {},
   "outputs": [
    {
     "data": {
      "text/plain": [
       "array([0.0280483])"
      ]
     },
     "execution_count": 50,
     "metadata": {},
     "output_type": "execute_result"
    }
   ],
   "source": [
    "y_train[:1]"
   ]
  },
  {
   "cell_type": "code",
   "execution_count": 69,
   "metadata": {},
   "outputs": [
    {
     "data": {
      "text/plain": [
       "array([[0.67695607, 0.69663638, 0.71969996, 0.71958719, 0.72471866,\n",
       "        0.73898535, 0.77783827, 0.77501878, 0.7505454 , 0.75703024,\n",
       "        0.76154159, 0.77321432, 0.76300781, 0.74479355, 0.75037629,\n",
       "        0.74451166, 0.76340238, 0.75697398, 0.75094015, 0.77998113,\n",
       "        0.78347727, 0.75172956, 0.76221814, 0.79712375, 0.79740572,\n",
       "        0.78240588, 0.79723652, 0.81449191, 0.84900277, 0.84708546,\n",
       "        0.84398407, 0.83862697, 0.84375844, 0.85013059, 0.87325051,\n",
       "        0.87014913, 0.88830661, 0.89056224, 0.9074794 , 0.92140768,\n",
       "        0.88892699, 0.88875779, 0.91977234, 0.95958397, 0.96905724,\n",
       "        0.96697107, 0.96759128, 0.98433291, 0.98834868, 1.        ]])"
      ]
     },
     "execution_count": 69,
     "metadata": {},
     "output_type": "execute_result"
    }
   ],
   "source": [
    "x_test, y_test = create_my_dataset(dataset_test)\n",
    "x_test[:1]"
   ]
  },
  {
   "cell_type": "code",
   "execution_count": 61,
   "metadata": {},
   "outputs": [
    {
     "data": {
      "text/plain": [
       "array([1.00953714])"
      ]
     },
     "execution_count": 61,
     "metadata": {},
     "output_type": "execute_result"
    }
   ],
   "source": [
    "y_test[:1]"
   ]
  },
  {
   "cell_type": "code",
   "execution_count": 70,
   "metadata": {},
   "outputs": [
    {
     "name": "stdout",
     "output_type": "stream",
     "text": [
      "(957, 50, 1)\n",
      "(252, 50, 1)\n"
     ]
    }
   ],
   "source": [
    "#reshaping for LSTM\n",
    "x_train = np.reshape(x_train, (x_train.shape[0],x_train.shape[1],1))\n",
    "x_test = np.reshape(x_test, (x_test.shape[0], x_test.shape[1],1))\n",
    "print(x_train.shape)\n",
    "print(x_test.shape)\n"
   ]
  },
  {
   "cell_type": "code",
   "execution_count": 71,
   "metadata": {},
   "outputs": [],
   "source": [
    "tf.logging.set_verbosity(tf.logging.ERROR)\n",
    "model = Sequential()\n",
    "model.add(LSTM(units=96, return_sequences=True, input_shape=(x_train.shape[1],1)))\n",
    "#model.add(Dropout(0.2))\n",
    "model.add(LSTM(units=96, return_sequences=True))\n",
    "#model.add(Dropout(0.2))\n",
    "model.add(LSTM(units=96))\n",
    "#model.add(Dropout(0.2))\n",
    "model.add(Dense(units=1))"
   ]
  },
  {
   "cell_type": "code",
   "execution_count": 24,
   "metadata": {},
   "outputs": [
    {
     "name": "stdout",
     "output_type": "stream",
     "text": [
      "Model: \"sequential_1\"\n",
      "_________________________________________________________________\n",
      "Layer (type)                 Output Shape              Param #   \n",
      "=================================================================\n",
      "lstm_1 (LSTM)                (None, 50, 96)            37632     \n",
      "_________________________________________________________________\n",
      "lstm_2 (LSTM)                (None, 50, 96)            74112     \n",
      "_________________________________________________________________\n",
      "lstm_3 (LSTM)                (None, 96)                74112     \n",
      "_________________________________________________________________\n",
      "dense_1 (Dense)              (None, 1)                 97        \n",
      "=================================================================\n",
      "Total params: 185,953\n",
      "Trainable params: 185,953\n",
      "Non-trainable params: 0\n",
      "_________________________________________________________________\n"
     ]
    }
   ],
   "source": [
    "model.summary()"
   ]
  },
  {
   "cell_type": "code",
   "execution_count": 72,
   "metadata": {},
   "outputs": [],
   "source": [
    "model.compile(loss='mean_squared_error', optimizer='adam')"
   ]
  },
  {
   "cell_type": "code",
   "execution_count": 73,
   "metadata": {},
   "outputs": [
    {
     "name": "stdout",
     "output_type": "stream",
     "text": [
      "Epoch 1/50\n",
      "957/957 [==============================] - 3s 3ms/step - loss: 0.0241\n",
      "Epoch 2/50\n",
      "957/957 [==============================] - 2s 2ms/step - loss: 0.0020\n",
      "Epoch 3/50\n",
      "957/957 [==============================] - 2s 2ms/step - loss: 0.0016\n",
      "Epoch 4/50\n",
      "957/957 [==============================] - 2s 2ms/step - loss: 0.0016\n",
      "Epoch 5/50\n",
      "957/957 [==============================] - 2s 2ms/step - loss: 0.0015\n",
      "Epoch 6/50\n",
      "957/957 [==============================] - 2s 2ms/step - loss: 0.0012\n",
      "Epoch 7/50\n",
      "957/957 [==============================] - 2s 2ms/step - loss: 0.0010\n",
      "Epoch 8/50\n",
      "957/957 [==============================] - 2s 2ms/step - loss: 9.8334e-04\n",
      "Epoch 9/50\n",
      "957/957 [==============================] - 2s 2ms/step - loss: 9.6644e-04\n",
      "Epoch 10/50\n",
      "957/957 [==============================] - 2s 2ms/step - loss: 0.0011\n",
      "Epoch 11/50\n",
      "957/957 [==============================] - 2s 2ms/step - loss: 9.8140e-04\n",
      "Epoch 12/50\n",
      "957/957 [==============================] - 2s 2ms/step - loss: 0.0010\n",
      "Epoch 13/50\n",
      "957/957 [==============================] - 2s 2ms/step - loss: 8.9677e-04\n",
      "Epoch 14/50\n",
      "957/957 [==============================] - 2s 2ms/step - loss: 8.0632e-04\n",
      "Epoch 15/50\n",
      "957/957 [==============================] - 2s 2ms/step - loss: 7.9157e-04\n",
      "Epoch 16/50\n",
      "957/957 [==============================] - 2s 2ms/step - loss: 7.2671e-04\n",
      "Epoch 17/50\n",
      "957/957 [==============================] - 2s 2ms/step - loss: 8.0822e-04\n",
      "Epoch 18/50\n",
      "957/957 [==============================] - 2s 2ms/step - loss: 6.8894e-04\n",
      "Epoch 19/50\n",
      "957/957 [==============================] - 2s 2ms/step - loss: 7.2697e-04\n",
      "Epoch 20/50\n",
      "957/957 [==============================] - 2s 2ms/step - loss: 6.5212e-04\n",
      "Epoch 21/50\n",
      "957/957 [==============================] - 2s 2ms/step - loss: 6.6097e-04\n",
      "Epoch 22/50\n",
      "957/957 [==============================] - 2s 2ms/step - loss: 7.8230e-04\n",
      "Epoch 23/50\n",
      "957/957 [==============================] - 2s 2ms/step - loss: 7.2214e-04\n",
      "Epoch 24/50\n",
      "957/957 [==============================] - 2s 2ms/step - loss: 7.8210e-04\n",
      "Epoch 25/50\n",
      "957/957 [==============================] - 2s 2ms/step - loss: 5.9597e-04\n",
      "Epoch 26/50\n",
      "957/957 [==============================] - 2s 2ms/step - loss: 5.6189e-04\n",
      "Epoch 27/50\n",
      "957/957 [==============================] - 2s 2ms/step - loss: 6.2848e-04\n",
      "Epoch 28/50\n",
      "957/957 [==============================] - 2s 2ms/step - loss: 6.1198e-04\n",
      "Epoch 29/50\n",
      "957/957 [==============================] - 2s 2ms/step - loss: 4.9561e-04\n",
      "Epoch 30/50\n",
      "957/957 [==============================] - 2s 2ms/step - loss: 5.6701e-04\n",
      "Epoch 31/50\n",
      "957/957 [==============================] - 2s 2ms/step - loss: 6.6870e-04\n",
      "Epoch 32/50\n",
      "957/957 [==============================] - 2s 2ms/step - loss: 6.5885e-04\n",
      "Epoch 33/50\n",
      "957/957 [==============================] - 2s 2ms/step - loss: 5.3263e-04\n",
      "Epoch 34/50\n",
      "957/957 [==============================] - 2s 2ms/step - loss: 4.5157e-04\n",
      "Epoch 35/50\n",
      "957/957 [==============================] - 2s 2ms/step - loss: 4.6664e-04\n",
      "Epoch 36/50\n",
      "957/957 [==============================] - 2s 2ms/step - loss: 4.6909e-04\n",
      "Epoch 37/50\n",
      "957/957 [==============================] - 2s 2ms/step - loss: 4.2824e-04\n",
      "Epoch 38/50\n",
      "957/957 [==============================] - 2s 2ms/step - loss: 4.1698e-04\n",
      "Epoch 39/50\n",
      "957/957 [==============================] - 2s 2ms/step - loss: 4.5621e-04\n",
      "Epoch 40/50\n",
      "957/957 [==============================] - 2s 2ms/step - loss: 4.4338e-04\n",
      "Epoch 41/50\n",
      "957/957 [==============================] - 2s 2ms/step - loss: 4.8105e-04\n",
      "Epoch 42/50\n",
      "957/957 [==============================] - 2s 2ms/step - loss: 4.1015e-04\n",
      "Epoch 43/50\n",
      "957/957 [==============================] - 2s 2ms/step - loss: 4.1780e-04\n",
      "Epoch 44/50\n",
      "957/957 [==============================] - 2s 2ms/step - loss: 4.0368e-04\n",
      "Epoch 45/50\n",
      "957/957 [==============================] - 2s 2ms/step - loss: 3.9772e-04\n",
      "Epoch 46/50\n",
      "957/957 [==============================] - 2s 2ms/step - loss: 5.6956e-04\n",
      "Epoch 47/50\n",
      "957/957 [==============================] - 2s 2ms/step - loss: 4.3259e-04\n",
      "Epoch 48/50\n",
      "957/957 [==============================] - 2s 2ms/step - loss: 4.3708e-04\n",
      "Epoch 49/50\n",
      "957/957 [==============================] - 2s 2ms/step - loss: 3.9512e-04\n",
      "Epoch 50/50\n",
      "957/957 [==============================] - 2s 2ms/step - loss: 3.8875e-04\n"
     ]
    },
    {
     "ename": "AttributeError",
     "evalue": "module 'os' has no attribute 'join'",
     "output_type": "error",
     "traceback": [
      "\u001b[1;31m---------------------------------------------------------------------------\u001b[0m",
      "\u001b[1;31mAttributeError\u001b[0m                            Traceback (most recent call last)",
      "\u001b[1;32m<ipython-input-73-cdcce8bdc348>\u001b[0m in \u001b[0;36m<module>\u001b[1;34m\u001b[0m\n\u001b[0;32m      1\u001b[0m \u001b[0mmodel\u001b[0m\u001b[1;33m.\u001b[0m\u001b[0mfit\u001b[0m\u001b[1;33m(\u001b[0m\u001b[0mx_train\u001b[0m\u001b[1;33m,\u001b[0m \u001b[0my_train\u001b[0m\u001b[1;33m,\u001b[0m \u001b[0mepochs\u001b[0m\u001b[1;33m=\u001b[0m\u001b[1;36m50\u001b[0m\u001b[1;33m,\u001b[0m \u001b[0mbatch_size\u001b[0m\u001b[1;33m=\u001b[0m\u001b[1;36m32\u001b[0m\u001b[1;33m)\u001b[0m\u001b[1;33m\u001b[0m\u001b[1;33m\u001b[0m\u001b[0m\n\u001b[1;32m----> 2\u001b[1;33m \u001b[0mmodel\u001b[0m\u001b[1;33m.\u001b[0m\u001b[0msave\u001b[0m\u001b[1;33m(\u001b[0m\u001b[0mos\u001b[0m\u001b[1;33m.\u001b[0m\u001b[0mjoin\u001b[0m\u001b[1;33m(\u001b[0m\u001b[1;34m\"..\"\u001b[0m\u001b[1;33m,\u001b[0m\u001b[1;34m\"static\"\u001b[0m\u001b[1;33m,\u001b[0m\u001b[1;34m\"models\"\u001b[0m\u001b[1;33m,\u001b[0m\u001b[1;34mf\"{tickerStr}.h5\"\u001b[0m\u001b[1;33m)\u001b[0m\u001b[1;33m)\u001b[0m\u001b[1;33m\u001b[0m\u001b[1;33m\u001b[0m\u001b[0m\n\u001b[0m",
      "\u001b[1;31mAttributeError\u001b[0m: module 'os' has no attribute 'join'"
     ]
    }
   ],
   "source": [
    "model.fit(x_train, y_train, epochs=50, batch_size=32)\n",
    "model.save(os.path.join(\"..\",\"static\",\"models\",f\"{tickerStr}.h5\"))"
   ]
  },
  {
   "cell_type": "code",
   "execution_count": 55,
   "metadata": {},
   "outputs": [],
   "source": [
    "if(not os.path.exists('C:\\code\\ML\\mfst.h5')):\n",
    "    model.fit(x_train, y_train, epochs=50, batch_size=32)\n",
    "    model.save(os.join(\"..\",\"static\",\"models\",f\"{tickerStr}.h5\"))\n",
    "else:\n",
    "    model = load_model('stock_prediction.h5')"
   ]
  },
  {
   "cell_type": "code",
   "execution_count": 75,
   "metadata": {},
   "outputs": [
    {
     "name": "stdout",
     "output_type": "stream",
     "text": [
      "range(1007, 1259)\n"
     ]
    },
    {
     "data": {
      "image/png": "[encoded data removed]",
      "text/plain": [
       "<Figure size 576x288 with 1 Axes>"
      ]
     },
     "metadata": {
      "needs_background": "light"
     },
     "output_type": "display_data"
    }
   ],
   "source": [
    "#visualizing our predictions\n",
    "%matplotlib inline\n",
    "predictions = model.predict(x_test)\n",
    "predictions = scaler.inverse_transform(predictions)\n",
    "\n",
    "fig, ax = plt.subplots(figsize=(8,4))\n",
    "plt.plot(df, color='red', label='Original Stockprice')\n",
    "ax.plot(range(len(y_train)+50,len(y_train)+50+len(predictions)),predictions,color='blue',label='predicted')\n",
    "plt.legend()\n",
    "print(range(len(y_train)+50,len(y_train)+50+len(predictions)))"
   ]
  },
  {
   "cell_type": "code",
   "execution_count": 30,
   "metadata": {},
   "outputs": [
    {
     "data": {
      "text/plain": [
       "array([[218.78999329],\n",
       "       [222.72000122],\n",
       "       [223.        ],\n",
       "       [217.1000061 ],\n",
       "       [220.1499939 ],\n",
       "       [220.41999817],\n",
       "       [215.80000305],\n",
       "       [213.11999512],\n",
       "       [213.92999268],\n",
       "       [215.02999878],\n",
       "       [213.8500061 ],\n",
       "       [211.58999634],\n",
       "       [207.66999817],\n",
       "       [204.07000732],\n",
       "       [203.5       ],\n",
       "       [204.28999329],\n",
       "       [203.88999939],\n",
       "       [214.02000427],\n",
       "       [222.03999329],\n",
       "       [222.25999451],\n",
       "       [224.44000244],\n",
       "       [214.5       ]])"
      ]
     },
     "execution_count": 30,
     "metadata": {},
     "output_type": "execute_result"
    }
   ],
   "source": [
    "msft.history('1mo')['Open'].values.reshape(-1,1)"
   ]
  },
  {
   "cell_type": "code",
   "execution_count": 60,
   "metadata": {},
   "outputs": [
    {
     "data": {
      "text/html": [
       "<div>\n",
       "<style scoped>\n",
       "    .dataframe tbody tr th:only-of-type {\n",
       "        vertical-align: middle;\n",
       "    }\n",
       "\n",
       "    .dataframe tbody tr th {\n",
       "        vertical-align: top;\n",
       "    }\n",
       "\n",
       "    .dataframe thead th {\n",
       "        text-align: right;\n",
       "    }\n",
       "</style>\n",
       "<table border=\"1\" class=\"dataframe\">\n",
       "  <thead>\n",
       "    <tr style=\"text-align: right;\">\n",
       "      <th></th>\n",
       "      <th>opening_price</th>\n",
       "      <th>predicted_prices</th>\n",
       "    </tr>\n",
       "  </thead>\n",
       "  <tbody>\n",
       "    <tr>\n",
       "      <th>0</th>\n",
       "      <td>48.756870</td>\n",
       "      <td>0.000000</td>\n",
       "    </tr>\n",
       "    <tr>\n",
       "      <th>1</th>\n",
       "      <td>48.456959</td>\n",
       "      <td>0.000000</td>\n",
       "    </tr>\n",
       "    <tr>\n",
       "      <th>2</th>\n",
       "      <td>48.020748</td>\n",
       "      <td>0.000000</td>\n",
       "    </tr>\n",
       "    <tr>\n",
       "      <th>3</th>\n",
       "      <td>48.865921</td>\n",
       "      <td>0.000000</td>\n",
       "    </tr>\n",
       "    <tr>\n",
       "      <th>4</th>\n",
       "      <td>48.463364</td>\n",
       "      <td>0.000000</td>\n",
       "    </tr>\n",
       "    <tr>\n",
       "      <th>...</th>\n",
       "      <td>...</td>\n",
       "      <td>...</td>\n",
       "    </tr>\n",
       "    <tr>\n",
       "      <th>1254</th>\n",
       "      <td>216.389999</td>\n",
       "      <td>190.310562</td>\n",
       "    </tr>\n",
       "    <tr>\n",
       "      <th>1255</th>\n",
       "      <td>223.289993</td>\n",
       "      <td>190.184937</td>\n",
       "    </tr>\n",
       "    <tr>\n",
       "      <th>1256</th>\n",
       "      <td>223.720001</td>\n",
       "      <td>192.432175</td>\n",
       "    </tr>\n",
       "    <tr>\n",
       "      <th>1257</th>\n",
       "      <td>218.389999</td>\n",
       "      <td>196.576477</td>\n",
       "    </tr>\n",
       "    <tr>\n",
       "      <th>1258</th>\n",
       "      <td>211.009995</td>\n",
       "      <td>201.293015</td>\n",
       "    </tr>\n",
       "  </tbody>\n",
       "</table>\n",
       "<p>1259 rows × 2 columns</p>\n",
       "</div>"
      ],
      "text/plain": [
       "      opening_price  predicted_prices\n",
       "0         48.756870          0.000000\n",
       "1         48.456959          0.000000\n",
       "2         48.020748          0.000000\n",
       "3         48.865921          0.000000\n",
       "4         48.463364          0.000000\n",
       "...             ...               ...\n",
       "1254     216.389999        190.310562\n",
       "1255     223.289993        190.184937\n",
       "1256     223.720001        192.432175\n",
       "1257     218.389999        196.576477\n",
       "1258     211.009995        201.293015\n",
       "\n",
       "[1259 rows x 2 columns]"
      ]
     },
     "execution_count": 60,
     "metadata": {},
     "output_type": "execute_result"
    }
   ],
   "source": [
    "predictions_prepended = [0 for i in range(0,df.shape[0]-len(predictions))]\n",
    "predictions_prepended.extend(predictions.flatten().tolist())\n",
    "graph1 = pd.DataFrame({\n",
    "    \"opening_price\": df.flatten().tolist(),\n",
    "    \"predicted_prices\": predictions_prepended,\n",
    "})\n",
    "graph1.to_csv('graph_1.csv',index_label=\"Index\")"
   ]
  },
  {
   "cell_type": "code",
   "execution_count": 117,
   "metadata": {},
   "outputs": [],
   "source": [
    "graph1.to_csv('graph_1.csv',index_label=\"Index\")"
   ]
  },
  {
   "cell_type": "code",
   "execution_count": 1,
   "metadata": {},
   "outputs": [
    {
     "ename": "NameError",
     "evalue": "name 'scaler' is not defined",
     "output_type": "error",
     "traceback": [
      "\u001b[1;31m---------------------------------------------------------------------------\u001b[0m",
      "\u001b[1;31mNameError\u001b[0m                                 Traceback (most recent call last)",
      "\u001b[1;32m<ipython-input-1-1a81d6ca4949>\u001b[0m in \u001b[0;36m<module>\u001b[1;34m\u001b[0m\n\u001b[1;32m----> 1\u001b[1;33m \u001b[0my_test_scaled\u001b[0m \u001b[1;33m=\u001b[0m \u001b[0mscaler\u001b[0m\u001b[1;33m.\u001b[0m\u001b[0minverse_transform\u001b[0m\u001b[1;33m(\u001b[0m\u001b[0my_test\u001b[0m\u001b[1;33m.\u001b[0m\u001b[0mreshape\u001b[0m\u001b[1;33m(\u001b[0m\u001b[1;33m-\u001b[0m\u001b[1;36m1\u001b[0m\u001b[1;33m,\u001b[0m\u001b[1;36m1\u001b[0m\u001b[1;33m)\u001b[0m\u001b[1;33m)\u001b[0m\u001b[1;33m\u001b[0m\u001b[1;33m\u001b[0m\u001b[0m\n\u001b[0m\u001b[0;32m      2\u001b[0m \u001b[1;33m\u001b[0m\u001b[0m\n\u001b[0;32m      3\u001b[0m \u001b[0mfig\u001b[0m\u001b[1;33m,\u001b[0m \u001b[0max\u001b[0m \u001b[1;33m=\u001b[0m \u001b[0mplt\u001b[0m\u001b[1;33m.\u001b[0m\u001b[0msubplots\u001b[0m\u001b[1;33m(\u001b[0m\u001b[0mfigsize\u001b[0m\u001b[1;33m=\u001b[0m\u001b[1;33m(\u001b[0m\u001b[1;36m8\u001b[0m\u001b[1;33m,\u001b[0m\u001b[1;36m4\u001b[0m\u001b[1;33m)\u001b[0m\u001b[1;33m)\u001b[0m\u001b[1;33m\u001b[0m\u001b[1;33m\u001b[0m\u001b[0m\n\u001b[0;32m      4\u001b[0m \u001b[0max\u001b[0m\u001b[1;33m.\u001b[0m\u001b[0mplot\u001b[0m\u001b[1;33m(\u001b[0m\u001b[0my_test_scaled\u001b[0m\u001b[1;33m,\u001b[0m \u001b[0mcolor\u001b[0m\u001b[1;33m=\u001b[0m\u001b[1;34m'red'\u001b[0m\u001b[1;33m,\u001b[0m \u001b[0mlabel\u001b[0m\u001b[1;33m=\u001b[0m\u001b[1;34m'True Price of testing set'\u001b[0m\u001b[1;33m)\u001b[0m\u001b[1;33m\u001b[0m\u001b[1;33m\u001b[0m\u001b[0m\n\u001b[0;32m      5\u001b[0m \u001b[0mplt\u001b[0m\u001b[1;33m.\u001b[0m\u001b[0mplot\u001b[0m\u001b[1;33m(\u001b[0m\u001b[0mpredictions\u001b[0m\u001b[1;33m,\u001b[0m\u001b[0mcolor\u001b[0m\u001b[1;33m=\u001b[0m\u001b[1;34m'blue'\u001b[0m\u001b[1;33m,\u001b[0m\u001b[0mlabel\u001b[0m\u001b[1;33m=\u001b[0m\u001b[1;34m'predicted'\u001b[0m\u001b[1;33m)\u001b[0m\u001b[1;33m\u001b[0m\u001b[1;33m\u001b[0m\u001b[0m\n",
      "\u001b[1;31mNameError\u001b[0m: name 'scaler' is not defined"
     ]
    }
   ],
   "source": [
    "y_test_scaled = scaler.inverse_transform(y_test.reshape(-1,1))\n",
    "\n",
    "fig, ax = plt.subplots(figsize=(8,4))\n",
    "ax.plot(y_test_scaled, color='red', label='True Price of testing set')\n",
    "plt.plot(predictions,color='blue',label='predicted')\n",
    "plt.legend()\n",
    "plt.savefig('image.png')"
   ]
  },
  {
   "cell_type": "code",
   "execution_count": null,
   "metadata": {},
   "outputs": [],
   "source": []
  }
 ],
 "metadata": {
  "kernelspec": {
   "display_name": "Python 3.6.10 64-bit ('PythonData': conda)",
   "language": "python",
   "name": "python361064bitpythondataconda13c33e7d00474160b8916212f83fb86d"
  },
  "language_info": {
   "codemirror_mode": {
    "name": "ipython",
    "version": 3
   },
   "file_extension": ".py",
   "mimetype": "text/x-python",
   "name": "python",
   "nbconvert_exporter": "python",
   "pygments_lexer": "ipython3",
   "version": "3.6.11"
  }
 },
 "nbformat": 4,
 "nbformat_minor": 4
}
