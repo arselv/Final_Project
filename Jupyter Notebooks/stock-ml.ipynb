{
 "cells": [
  {
   "cell_type": "code",
   "execution_count": 46,
   "metadata": {},
   "outputs": [],
   "source": [
    "import numpy as np\n",
    "import json\n",
    "import pandas as pd\n",
    "import matplotlib.pyplot as plt\n",
    "from sklearn.preprocessing import MinMaxScaler\n",
    "from keras.models import Sequential, load_model\n",
    "from keras.layers import LSTM, Dense, Dropout\n",
    "import os\n",
    "import tensorflow as tf"
   ]
  },
  {
   "cell_type": "code",
   "execution_count": 66,
   "metadata": {},
   "outputs": [],
   "source": [
    "import yfinance as yf\n",
    "\n",
    "msft = yf.Ticker(\"MSFT\")"
   ]
  },
  {
   "cell_type": "code",
   "execution_count": 67,
   "metadata": {},
   "outputs": [
    {
     "data": {
      "text/html": [
       "<div>\n",
       "<style scoped>\n",
       "    .dataframe tbody tr th:only-of-type {\n",
       "        vertical-align: middle;\n",
       "    }\n",
       "\n",
       "    .dataframe tbody tr th {\n",
       "        vertical-align: top;\n",
       "    }\n",
       "\n",
       "    .dataframe thead th {\n",
       "        text-align: right;\n",
       "    }\n",
       "</style>\n",
       "<table border=\"1\" class=\"dataframe\">\n",
       "  <thead>\n",
       "    <tr style=\"text-align: right;\">\n",
       "      <th></th>\n",
       "      <th>Open</th>\n",
       "      <th>High</th>\n",
       "      <th>Low</th>\n",
       "      <th>Close</th>\n",
       "      <th>Volume</th>\n",
       "      <th>Dividends</th>\n",
       "      <th>Stock Splits</th>\n",
       "    </tr>\n",
       "    <tr>\n",
       "      <th>Date</th>\n",
       "      <th></th>\n",
       "      <th></th>\n",
       "      <th></th>\n",
       "      <th></th>\n",
       "      <th></th>\n",
       "      <th></th>\n",
       "      <th></th>\n",
       "    </tr>\n",
       "  </thead>\n",
       "  <tbody>\n",
       "    <tr>\n",
       "      <th>2020-10-07</th>\n",
       "      <td>207.059998</td>\n",
       "      <td>210.110001</td>\n",
       "      <td>206.720001</td>\n",
       "      <td>209.830002</td>\n",
       "      <td>25681100</td>\n",
       "      <td>0</td>\n",
       "      <td>0</td>\n",
       "    </tr>\n",
       "    <tr>\n",
       "      <th>2020-10-08</th>\n",
       "      <td>210.509995</td>\n",
       "      <td>211.190002</td>\n",
       "      <td>208.320007</td>\n",
       "      <td>210.580002</td>\n",
       "      <td>19925800</td>\n",
       "      <td>0</td>\n",
       "      <td>0</td>\n",
       "    </tr>\n",
       "    <tr>\n",
       "      <th>2020-10-09</th>\n",
       "      <td>211.229996</td>\n",
       "      <td>215.860001</td>\n",
       "      <td>211.229996</td>\n",
       "      <td>215.809998</td>\n",
       "      <td>26458000</td>\n",
       "      <td>0</td>\n",
       "      <td>0</td>\n",
       "    </tr>\n",
       "    <tr>\n",
       "      <th>2020-10-12</th>\n",
       "      <td>218.789993</td>\n",
       "      <td>223.860001</td>\n",
       "      <td>216.809998</td>\n",
       "      <td>221.399994</td>\n",
       "      <td>40461400</td>\n",
       "      <td>0</td>\n",
       "      <td>0</td>\n",
       "    </tr>\n",
       "    <tr>\n",
       "      <th>2020-10-13</th>\n",
       "      <td>222.720001</td>\n",
       "      <td>225.210007</td>\n",
       "      <td>220.429993</td>\n",
       "      <td>222.860001</td>\n",
       "      <td>28950800</td>\n",
       "      <td>0</td>\n",
       "      <td>0</td>\n",
       "    </tr>\n",
       "    <tr>\n",
       "      <th>2020-10-14</th>\n",
       "      <td>223.000000</td>\n",
       "      <td>224.220001</td>\n",
       "      <td>219.130005</td>\n",
       "      <td>220.860001</td>\n",
       "      <td>23451700</td>\n",
       "      <td>0</td>\n",
       "      <td>0</td>\n",
       "    </tr>\n",
       "    <tr>\n",
       "      <th>2020-10-15</th>\n",
       "      <td>217.100006</td>\n",
       "      <td>220.360001</td>\n",
       "      <td>216.009995</td>\n",
       "      <td>219.660004</td>\n",
       "      <td>22733100</td>\n",
       "      <td>0</td>\n",
       "      <td>0</td>\n",
       "    </tr>\n",
       "    <tr>\n",
       "      <th>2020-10-16</th>\n",
       "      <td>220.149994</td>\n",
       "      <td>222.289993</td>\n",
       "      <td>219.320007</td>\n",
       "      <td>219.660004</td>\n",
       "      <td>26057900</td>\n",
       "      <td>0</td>\n",
       "      <td>0</td>\n",
       "    </tr>\n",
       "    <tr>\n",
       "      <th>2020-10-19</th>\n",
       "      <td>220.419998</td>\n",
       "      <td>222.300003</td>\n",
       "      <td>213.720001</td>\n",
       "      <td>214.220001</td>\n",
       "      <td>27625800</td>\n",
       "      <td>0</td>\n",
       "      <td>0</td>\n",
       "    </tr>\n",
       "    <tr>\n",
       "      <th>2020-10-20</th>\n",
       "      <td>215.800003</td>\n",
       "      <td>217.369995</td>\n",
       "      <td>213.089996</td>\n",
       "      <td>214.649994</td>\n",
       "      <td>22753500</td>\n",
       "      <td>0</td>\n",
       "      <td>0</td>\n",
       "    </tr>\n",
       "    <tr>\n",
       "      <th>2020-10-21</th>\n",
       "      <td>213.119995</td>\n",
       "      <td>216.919998</td>\n",
       "      <td>213.119995</td>\n",
       "      <td>214.800003</td>\n",
       "      <td>22724900</td>\n",
       "      <td>0</td>\n",
       "      <td>0</td>\n",
       "    </tr>\n",
       "    <tr>\n",
       "      <th>2020-10-22</th>\n",
       "      <td>213.929993</td>\n",
       "      <td>216.059998</td>\n",
       "      <td>211.699997</td>\n",
       "      <td>214.889999</td>\n",
       "      <td>22351500</td>\n",
       "      <td>0</td>\n",
       "      <td>0</td>\n",
       "    </tr>\n",
       "    <tr>\n",
       "      <th>2020-10-23</th>\n",
       "      <td>215.029999</td>\n",
       "      <td>216.279999</td>\n",
       "      <td>213.160004</td>\n",
       "      <td>216.229996</td>\n",
       "      <td>18879600</td>\n",
       "      <td>0</td>\n",
       "      <td>0</td>\n",
       "    </tr>\n",
       "    <tr>\n",
       "      <th>2020-10-26</th>\n",
       "      <td>213.850006</td>\n",
       "      <td>216.339996</td>\n",
       "      <td>208.100006</td>\n",
       "      <td>210.080002</td>\n",
       "      <td>37111600</td>\n",
       "      <td>0</td>\n",
       "      <td>0</td>\n",
       "    </tr>\n",
       "    <tr>\n",
       "      <th>2020-10-27</th>\n",
       "      <td>211.589996</td>\n",
       "      <td>214.669998</td>\n",
       "      <td>210.330002</td>\n",
       "      <td>213.250000</td>\n",
       "      <td>36700300</td>\n",
       "      <td>0</td>\n",
       "      <td>0</td>\n",
       "    </tr>\n",
       "    <tr>\n",
       "      <th>2020-10-28</th>\n",
       "      <td>207.669998</td>\n",
       "      <td>208.839996</td>\n",
       "      <td>202.100006</td>\n",
       "      <td>202.679993</td>\n",
       "      <td>51195600</td>\n",
       "      <td>0</td>\n",
       "      <td>0</td>\n",
       "    </tr>\n",
       "    <tr>\n",
       "      <th>2020-10-29</th>\n",
       "      <td>204.070007</td>\n",
       "      <td>207.360001</td>\n",
       "      <td>203.369995</td>\n",
       "      <td>204.720001</td>\n",
       "      <td>31432600</td>\n",
       "      <td>0</td>\n",
       "      <td>0</td>\n",
       "    </tr>\n",
       "    <tr>\n",
       "      <th>2020-10-30</th>\n",
       "      <td>203.500000</td>\n",
       "      <td>204.289993</td>\n",
       "      <td>199.619995</td>\n",
       "      <td>202.470001</td>\n",
       "      <td>36953700</td>\n",
       "      <td>0</td>\n",
       "      <td>0</td>\n",
       "    </tr>\n",
       "    <tr>\n",
       "      <th>2020-11-02</th>\n",
       "      <td>204.289993</td>\n",
       "      <td>205.279999</td>\n",
       "      <td>200.119995</td>\n",
       "      <td>202.330002</td>\n",
       "      <td>30842200</td>\n",
       "      <td>0</td>\n",
       "      <td>0</td>\n",
       "    </tr>\n",
       "    <tr>\n",
       "      <th>2020-11-03</th>\n",
       "      <td>203.889999</td>\n",
       "      <td>208.119995</td>\n",
       "      <td>203.119995</td>\n",
       "      <td>206.429993</td>\n",
       "      <td>27512000</td>\n",
       "      <td>0</td>\n",
       "      <td>0</td>\n",
       "    </tr>\n",
       "    <tr>\n",
       "      <th>2020-11-04</th>\n",
       "      <td>214.020004</td>\n",
       "      <td>218.320007</td>\n",
       "      <td>212.419998</td>\n",
       "      <td>216.389999</td>\n",
       "      <td>42311800</td>\n",
       "      <td>0</td>\n",
       "      <td>0</td>\n",
       "    </tr>\n",
       "    <tr>\n",
       "      <th>2020-11-05</th>\n",
       "      <td>222.039993</td>\n",
       "      <td>224.119995</td>\n",
       "      <td>221.149994</td>\n",
       "      <td>223.289993</td>\n",
       "      <td>36080100</td>\n",
       "      <td>0</td>\n",
       "      <td>0</td>\n",
       "    </tr>\n",
       "    <tr>\n",
       "      <th>2020-11-06</th>\n",
       "      <td>222.259995</td>\n",
       "      <td>224.360001</td>\n",
       "      <td>218.029999</td>\n",
       "      <td>223.720001</td>\n",
       "      <td>25210600</td>\n",
       "      <td>0</td>\n",
       "      <td>0</td>\n",
       "    </tr>\n",
       "  </tbody>\n",
       "</table>\n",
       "</div>"
      ],
      "text/plain": [
       "                  Open        High         Low       Close    Volume  \\\n",
       "Date                                                                   \n",
       "2020-10-07  207.059998  210.110001  206.720001  209.830002  25681100   \n",
       "2020-10-08  210.509995  211.190002  208.320007  210.580002  19925800   \n",
       "2020-10-09  211.229996  215.860001  211.229996  215.809998  26458000   \n",
       "2020-10-12  218.789993  223.860001  216.809998  221.399994  40461400   \n",
       "2020-10-13  222.720001  225.210007  220.429993  222.860001  28950800   \n",
       "2020-10-14  223.000000  224.220001  219.130005  220.860001  23451700   \n",
       "2020-10-15  217.100006  220.360001  216.009995  219.660004  22733100   \n",
       "2020-10-16  220.149994  222.289993  219.320007  219.660004  26057900   \n",
       "2020-10-19  220.419998  222.300003  213.720001  214.220001  27625800   \n",
       "2020-10-20  215.800003  217.369995  213.089996  214.649994  22753500   \n",
       "2020-10-21  213.119995  216.919998  213.119995  214.800003  22724900   \n",
       "2020-10-22  213.929993  216.059998  211.699997  214.889999  22351500   \n",
       "2020-10-23  215.029999  216.279999  213.160004  216.229996  18879600   \n",
       "2020-10-26  213.850006  216.339996  208.100006  210.080002  37111600   \n",
       "2020-10-27  211.589996  214.669998  210.330002  213.250000  36700300   \n",
       "2020-10-28  207.669998  208.839996  202.100006  202.679993  51195600   \n",
       "2020-10-29  204.070007  207.360001  203.369995  204.720001  31432600   \n",
       "2020-10-30  203.500000  204.289993  199.619995  202.470001  36953700   \n",
       "2020-11-02  204.289993  205.279999  200.119995  202.330002  30842200   \n",
       "2020-11-03  203.889999  208.119995  203.119995  206.429993  27512000   \n",
       "2020-11-04  214.020004  218.320007  212.419998  216.389999  42311800   \n",
       "2020-11-05  222.039993  224.119995  221.149994  223.289993  36080100   \n",
       "2020-11-06  222.259995  224.360001  218.029999  223.720001  25210600   \n",
       "\n",
       "            Dividends  Stock Splits  \n",
       "Date                                 \n",
       "2020-10-07          0             0  \n",
       "2020-10-08          0             0  \n",
       "2020-10-09          0             0  \n",
       "2020-10-12          0             0  \n",
       "2020-10-13          0             0  \n",
       "2020-10-14          0             0  \n",
       "2020-10-15          0             0  \n",
       "2020-10-16          0             0  \n",
       "2020-10-19          0             0  \n",
       "2020-10-20          0             0  \n",
       "2020-10-21          0             0  \n",
       "2020-10-22          0             0  \n",
       "2020-10-23          0             0  \n",
       "2020-10-26          0             0  \n",
       "2020-10-27          0             0  \n",
       "2020-10-28          0             0  \n",
       "2020-10-29          0             0  \n",
       "2020-10-30          0             0  \n",
       "2020-11-02          0             0  \n",
       "2020-11-03          0             0  \n",
       "2020-11-04          0             0  \n",
       "2020-11-05          0             0  \n",
       "2020-11-06          0             0  "
      ]
     },
     "execution_count": 67,
     "metadata": {},
     "output_type": "execute_result"
    }
   ],
   "source": [
    "msft.history(period='1mo')"
   ]
  },
  {
   "cell_type": "code",
   "execution_count": 21,
   "metadata": {},
   "outputs": [],
   "source": [
    "df = msft.history(period='2y')['Open'].values\n",
    "df = df.reshape(-1,1)"
   ]
  },
  {
   "cell_type": "code",
   "execution_count": 22,
   "metadata": {},
   "outputs": [
    {
     "data": {
      "text/plain": [
       "(504, 1)"
      ]
     },
     "execution_count": 22,
     "metadata": {},
     "output_type": "execute_result"
    }
   ],
   "source": [
    "df.shape"
   ]
  },
  {
   "cell_type": "code",
   "execution_count": 23,
   "metadata": {},
   "outputs": [
    {
     "name": "stdout",
     "output_type": "stream",
     "text": [
      "(403, 1)\n",
      "(151, 1)\n"
     ]
    }
   ],
   "source": [
    "dataset_train = np.array(df[:int(df.shape[0]*0.8)])\n",
    "dataset_test = np.array(df[int(df.shape[0]*0.8)-50:])\n",
    "print(dataset_train.shape)\n",
    "print(dataset_test.shape)"
   ]
  },
  {
   "cell_type": "code",
   "execution_count": 24,
   "metadata": {},
   "outputs": [
    {
     "data": {
      "text/plain": [
       "array([[0.13567621],\n",
       "       [0.15873017],\n",
       "       [0.14944985],\n",
       "       [0.13548096],\n",
       "       [0.11721358],\n",
       "       [0.1271482 ],\n",
       "       [0.09663656]])"
      ]
     },
     "execution_count": 24,
     "metadata": {},
     "output_type": "execute_result"
    }
   ],
   "source": [
    "scaler = MinMaxScaler(feature_range=(0,1))\n",
    "dataset_train = scaler.fit_transform(dataset_train)\n",
    "dataset_train[:7]"
   ]
  },
  {
   "cell_type": "code",
   "execution_count": 25,
   "metadata": {},
   "outputs": [
    {
     "data": {
      "text/plain": [
       "array([[0.66708544],\n",
       "       [0.75962853],\n",
       "       [0.72049488],\n",
       "       [0.72738329],\n",
       "       [0.70731746],\n",
       "       [0.75373863],\n",
       "       [0.77570135]])"
      ]
     },
     "execution_count": 25,
     "metadata": {},
     "output_type": "execute_result"
    }
   ],
   "source": [
    "dataset_test = scaler.transform(dataset_test)\n",
    "dataset_test[:7]"
   ]
  },
  {
   "cell_type": "code",
   "execution_count": 26,
   "metadata": {},
   "outputs": [],
   "source": [
    "def create_my_dataset(df):\n",
    "    x = []\n",
    "    y = []\n",
    "    for i in range(50, df.shape[0]):\n",
    "        x.append(df[i-50:i,0])\n",
    "        y.append(df[i,0])\n",
    "    x = np.array(x)\n",
    "    y = np.array(y)\n",
    "    return x,y"
   ]
  },
  {
   "cell_type": "code",
   "execution_count": 27,
   "metadata": {},
   "outputs": [
    {
     "data": {
      "text/plain": [
       "array([[0.13567621, 0.15873017, 0.14944985, 0.13548096, 0.11721358,\n",
       "        0.1271482 , 0.09663656, 0.11714125, 0.12881608, 0.06534015,\n",
       "        0.08299949, 0.06897007, 0.09467446, 0.10919439, 0.12508802,\n",
       "        0.14902645, 0.15265635, 0.17522127, 0.16482174, 0.10477961,\n",
       "        0.12989526, 0.09477241, 0.1438266 , 0.15452038, 0.14166821,\n",
       "        0.12861983, 0.10075717, 0.08447113, 0.08349013, 0.07760361,\n",
       "        0.06367206, 0.02491947, 0.        , 0.04081313, 0.06818518,\n",
       "        0.06033652, 0.04326571, 0.04866166, 0.04493357, 0.06377032,\n",
       "        0.07750545, 0.0855503 , 0.0792715 , 0.07897709, 0.06632113,\n",
       "        0.07230583, 0.0992855 , 0.09673463, 0.12086926, 0.11390358]])"
      ]
     },
     "execution_count": 27,
     "metadata": {},
     "output_type": "execute_result"
    }
   ],
   "source": [
    "x_train, y_train = create_my_dataset(dataset_train)\n",
    "x_train[:1]"
   ]
  },
  {
   "cell_type": "code",
   "execution_count": 28,
   "metadata": {},
   "outputs": [
    {
     "data": {
      "text/plain": [
       "array([0.10772271])"
      ]
     },
     "execution_count": 28,
     "metadata": {},
     "output_type": "execute_result"
    }
   ],
   "source": [
    "y_train[:1]"
   ]
  },
  {
   "cell_type": "code",
   "execution_count": 29,
   "metadata": {},
   "outputs": [
    {
     "data": {
      "text/plain": [
       "array([[0.66708544, 0.75962853, 0.72049488, 0.72738329, 0.70731746,\n",
       "        0.75373863, 0.77570135, 0.80664887, 0.85856096, 0.82990954,\n",
       "        0.79866249, 0.77759816, 0.80475211, 0.78428677, 0.82951013,\n",
       "        0.81952706, 0.79586719, 0.86355237, 0.82162366, 0.80854572,\n",
       "        0.86974189, 0.88431733, 0.90518193, 0.91326801, 0.89499905,\n",
       "        0.93143729, 0.88900931, 0.83899398, 0.85416833, 0.92095504,\n",
       "        0.91376726, 0.91670933, 0.9226158 , 0.90049179, 0.93202607,\n",
       "        0.87055925, 0.87596524, 0.8958867 , 0.8939847 , 0.91110334,\n",
       "        0.91680963, 0.91160383, 0.89478554, 0.92802179, 0.94864411,\n",
       "        0.97997831, 1.        , 0.97407175, 0.91440693, 0.99759729]])"
      ]
     },
     "execution_count": 29,
     "metadata": {},
     "output_type": "execute_result"
    }
   ],
   "source": [
    "x_test, y_test = create_my_dataset(dataset_test)\n",
    "x_test[:1]"
   ]
  },
  {
   "cell_type": "code",
   "execution_count": 30,
   "metadata": {},
   "outputs": [
    {
     "name": "stdout",
     "output_type": "stream",
     "text": [
      "(353, 50, 1)\n",
      "(101, 50, 1)\n"
     ]
    }
   ],
   "source": [
    "#reshaping for LSTM\n",
    "x_train = np.reshape(x_train, (x_train.shape[0],x_train.shape[1],1))\n",
    "x_test = np.reshape(x_test, (x_test.shape[0], x_test.shape[1],1))\n",
    "print(x_train.shape)\n",
    "print(x_test.shape)\n"
   ]
  },
  {
   "cell_type": "code",
   "execution_count": 31,
   "metadata": {},
   "outputs": [],
   "source": [
    "tf.logging.set_verbosity(tf.logging.ERROR)\n",
    "model = Sequential()\n",
    "model.add(LSTM(units=96, return_sequences=True, input_shape=(x_train.shape[1],1)))\n",
    "model.add(Dropout(0.2))\n",
    "model.add(LSTM(units=96, return_sequences=True))\n",
    "model.add(Dropout(0.2))\n",
    "model.add(LSTM(units=96))\n",
    "model.add(Dropout(0.2))\n",
    "model.add(Dense(units=1))"
   ]
  },
  {
   "cell_type": "code",
   "execution_count": 32,
   "metadata": {},
   "outputs": [
    {
     "name": "stdout",
     "output_type": "stream",
     "text": [
      "Model: \"sequential_1\"\n",
      "_________________________________________________________________\n",
      "Layer (type)                 Output Shape              Param #   \n",
      "=================================================================\n",
      "lstm_1 (LSTM)                (None, 50, 96)            37632     \n",
      "_________________________________________________________________\n",
      "dropout_1 (Dropout)          (None, 50, 96)            0         \n",
      "_________________________________________________________________\n",
      "lstm_2 (LSTM)                (None, 50, 96)            74112     \n",
      "_________________________________________________________________\n",
      "dropout_2 (Dropout)          (None, 50, 96)            0         \n",
      "_________________________________________________________________\n",
      "lstm_3 (LSTM)                (None, 96)                74112     \n",
      "_________________________________________________________________\n",
      "dropout_3 (Dropout)          (None, 96)                0         \n",
      "_________________________________________________________________\n",
      "dense_1 (Dense)              (None, 1)                 97        \n",
      "=================================================================\n",
      "Total params: 185,953\n",
      "Trainable params: 185,953\n",
      "Non-trainable params: 0\n",
      "_________________________________________________________________\n"
     ]
    }
   ],
   "source": [
    "model.summary()"
   ]
  },
  {
   "cell_type": "code",
   "execution_count": 33,
   "metadata": {},
   "outputs": [],
   "source": [
    "model.compile(loss='mean_squared_error', optimizer='adam')"
   ]
  },
  {
   "cell_type": "code",
   "execution_count": 35,
   "metadata": {},
   "outputs": [],
   "source": [
    "if(not os.path.exists('C:\\code\\ML\\stock_prediction.h5')):\n",
    "    model.fit(x_train, y_train, epochs=50, batch_size=32)\n",
    "    model.save('C:\\code\\ML\\stock_prediction.h5')\n",
    "else:\n",
    "    model = load_model('stock_prediction.h5')"
   ]
  },
  {
   "cell_type": "code",
   "execution_count": 36,
   "metadata": {},
   "outputs": [
    {
     "name": "stdout",
     "output_type": "stream",
     "text": [
      "range(403, 504)\n"
     ]
    },
    {
     "data": {
      "image/png": "[encoded data removed]",
      "text/plain": [
       "<Figure size 576x288 with 1 Axes>"
      ]
     },
     "metadata": {
      "needs_background": "light"
     },
     "output_type": "display_data"
    }
   ],
   "source": [
    "#visualizing our predictions\n",
    "%matplotlib inline\n",
    "predictions = model.predict(x_test)\n",
    "predictions = scaler.inverse_transform(predictions)\n",
    "\n",
    "fig, ax = plt.subplots(figsize=(8,4))\n",
    "plt.plot(df, color='red', label='Original Stockprice')\n",
    "ax.plot(range(len(y_train)+50,len(y_train)+50+len(predictions)),predictions,color='blue',label='predicted')\n",
    "plt.legend()\n",
    "print(range(len(y_train)+50,len(y_train)+50+len(predictions)))"
   ]
  },
  {
   "cell_type": "code",
   "execution_count": 27,
   "metadata": {},
   "outputs": [
    {
     "data": {
      "text/plain": [
       "array([[208.82000732],\n",
       "       [207.05999756],\n",
       "       [210.50999451],\n",
       "       [211.22999573],\n",
       "       [218.78999329],\n",
       "       [222.72000122],\n",
       "       [223.        ],\n",
       "       [217.1000061 ],\n",
       "       [220.1499939 ],\n",
       "       [220.41999817],\n",
       "       [215.80000305],\n",
       "       [213.11999512],\n",
       "       [213.92999268],\n",
       "       [215.02999878],\n",
       "       [213.8500061 ],\n",
       "       [211.58999634],\n",
       "       [207.66999817],\n",
       "       [204.07000732],\n",
       "       [203.5       ],\n",
       "       [204.28999329],\n",
       "       [203.88999939],\n",
       "       [214.02000427],\n",
       "       [222.03999329]])"
      ]
     },
     "execution_count": 27,
     "metadata": {},
     "output_type": "execute_result"
    }
   ],
   "source": [
    "msft.history('1mo')['Open'].values.reshape(-1,1)"
   ]
  },
  {
   "cell_type": "code",
   "execution_count": 101,
   "metadata": {},
   "outputs": [
    {
     "name": "stdout",
     "output_type": "stream",
     "text": [
      "['', '', '', '', '', '', '', '', '', '', '', '', '', '', '', '', '', '', '', '', '', '', '', '', '', '', '', '', '', '', '', '', '', '', '', '', '', '', '', '', '', '', '', '', '', '', '', '', '', '', '', '', '', '', '', '', '', '', '', '', '', '', '', '', '', '', '', '', '', '', '', '', '', '', '', '', '', '', '', '', '', '', '', '', '', '', '', '', '', '', '', '', '', '', '', '', '', '', '', '', '', '', '', '', '', '', '', '', '', '', '', '', '', '', '', '', '', '', '', '', '', '', '', '', '', '', '', '', '', '', '', '', '', '', '', '', '', '', '', '', '', '', '', '', '', '', '', '', '', '', '', '', '', '', '', '', '', '', '', '', '', '', '', '', '', '', '', '', '', '', '', '', '', '', '', '', '', '', '', '', '', '', '', '', '', '', '', '', '', '', '', '', '', '', '', '', '', '', '', '', '', '', '', '', '', '', '', '', '', '', '', '', '', '', '', '', '', '', '', '', '', '', '', '', '', '', '', '', '', '', '', '', '', '', '', '', '', '', '', '', '', '', '', '', '', '', '', '', '', '', '', '', '', '', '', '', '', '', '', '', '', '', '', '', '', '', '', '', '', '', '', '', '', '', '', '', '', '', '', '', '', '', '', '', '', '', '', '', '', '', '', '', '', '', '', '', '', '', '', '', '', '', '', '', '', '', '', '', '', '', '', '', '', '', '', '', '', '', '', '', '', '', '', '', '', '', '', '', '', '', '', '', '', '', '', '', '', '', '', '', '', '', '', '', '', '', '', '', '', '', '', '', '', '', '', '', '', '', '', '', '', '', '', '', '', '', '', '', '', '', '', '', '', '', '', '', '', '', '', '', '', '', '', '', '', '', '', '', '', '', '', '', '', '', '', '', '', '', '', '', '', '', '', 193.4510955810547, 194.59060668945312, 195.72683715820312, 197.08941650390625, 198.38482666015625, 199.9186248779297, 201.55592346191406, 202.83383178710938, 203.74563598632812, 203.97779846191406, 203.72410583496094, 203.51904296875, 203.6763916015625, 204.4232940673828, 205.746826171875, 207.3804931640625, 209.53253173828125, 211.73606872558594, 213.75848388671875, 214.7235870361328, 214.84335327148438, 213.98106384277344, 212.31663513183594, 210.21946716308594, 208.66639709472656, 207.5337371826172, 206.65283203125, 205.4641571044922, 204.0559844970703, 202.7412872314453, 201.60450744628906, 200.62478637695312, 200.10121154785156, 200.5885772705078, 202.21788024902344, 204.77687072753906, 207.6552276611328, 210.630615234375, 213.15509033203125, 214.66421508789062, 214.99942016601562, 214.6845245361328, 213.9599151611328, 213.1103057861328, 212.36785888671875, 211.92596435546875, 211.63970947265625, 211.78656005859375, 212.37704467773438, 213.1363983154297, 214.28411865234375, 216.0790557861328, 218.73873901367188, 221.8302764892578, 224.7742462158203, 227.41659545898438, 229.64178466796875, 230.10203552246094, 228.17263793945312, 224.4893798828125, 220.29908752441406, 215.81126403808594, 211.2734832763672, 207.3760986328125, 204.56088256835938, 202.1484375, 200.28860473632812, 198.61761474609375, 197.71714782714844, 197.85830688476562, 198.38894653320312, 199.33949279785156, 201.1291046142578, 203.51258850097656, 206.08328247070312, 208.97799682617188, 211.55540466308594, 213.50880432128906, 214.890625, 215.60789489746094, 216.0122833251953, 216.2772674560547, 217.05615234375, 218.6385040283203, 220.8145294189453, 222.7230987548828, 224.27886962890625, 225.37619018554688, 225.5810546875, 224.7314910888672, 223.12124633789062, 221.16119384765625, 219.04275512695312, 216.806396484375, 214.3261260986328, 211.51763916015625, 208.57797241210938, 205.8469696044922, 203.52838134765625, 202.50274658203125, 203.42005920410156]\n"
     ]
    }
   ],
   "source": [
    "my_list = [\"\" for i in range(0,df.shape[0]-len(predictions))]\n",
    "another_list = predictions.flatten().tolist()\n",
    "my_list.extend(another_list) \n",
    "print(my_list)"
   ]
  },
  {
   "cell_type": "code",
   "execution_count": 82,
   "metadata": {},
   "outputs": [],
   "source": [
    "[\"\" for i in range(0,df.shape[0]-len(predictions))].append(predictions)"
   ]
  },
  {
   "cell_type": "code",
   "execution_count": 92,
   "metadata": {},
   "outputs": [],
   "source": [
    "[\"\",\"\"].extend(predictions.flatten().tolist())"
   ]
  },
  {
   "cell_type": "code",
   "execution_count": 74,
   "metadata": {},
   "outputs": [
    {
     "data": {
      "text/plain": [
       "[193.4510955810547,\n",
       " 194.59060668945312,\n",
       " 195.72683715820312,\n",
       " 197.08941650390625,\n",
       " 198.38482666015625,\n",
       " 199.9186248779297,\n",
       " 201.55592346191406,\n",
       " 202.83383178710938,\n",
       " 203.74563598632812,\n",
       " 203.97779846191406,\n",
       " 203.72410583496094,\n",
       " 203.51904296875,\n",
       " 203.6763916015625,\n",
       " 204.4232940673828,\n",
       " 205.746826171875,\n",
       " 207.3804931640625,\n",
       " 209.53253173828125,\n",
       " 211.73606872558594,\n",
       " 213.75848388671875,\n",
       " 214.7235870361328,\n",
       " 214.84335327148438,\n",
       " 213.98106384277344,\n",
       " 212.31663513183594,\n",
       " 210.21946716308594,\n",
       " 208.66639709472656,\n",
       " 207.5337371826172,\n",
       " 206.65283203125,\n",
       " 205.4641571044922,\n",
       " 204.0559844970703,\n",
       " 202.7412872314453,\n",
       " 201.60450744628906,\n",
       " 200.62478637695312,\n",
       " 200.10121154785156,\n",
       " 200.5885772705078,\n",
       " 202.21788024902344,\n",
       " 204.77687072753906,\n",
       " 207.6552276611328,\n",
       " 210.630615234375,\n",
       " 213.15509033203125,\n",
       " 214.66421508789062,\n",
       " 214.99942016601562,\n",
       " 214.6845245361328,\n",
       " 213.9599151611328,\n",
       " 213.1103057861328,\n",
       " 212.36785888671875,\n",
       " 211.92596435546875,\n",
       " 211.63970947265625,\n",
       " 211.78656005859375,\n",
       " 212.37704467773438,\n",
       " 213.1363983154297,\n",
       " 214.28411865234375,\n",
       " 216.0790557861328,\n",
       " 218.73873901367188,\n",
       " 221.8302764892578,\n",
       " 224.7742462158203,\n",
       " 227.41659545898438,\n",
       " 229.64178466796875,\n",
       " 230.10203552246094,\n",
       " 228.17263793945312,\n",
       " 224.4893798828125,\n",
       " 220.29908752441406,\n",
       " 215.81126403808594,\n",
       " 211.2734832763672,\n",
       " 207.3760986328125,\n",
       " 204.56088256835938,\n",
       " 202.1484375,\n",
       " 200.28860473632812,\n",
       " 198.61761474609375,\n",
       " 197.71714782714844,\n",
       " 197.85830688476562,\n",
       " 198.38894653320312,\n",
       " 199.33949279785156,\n",
       " 201.1291046142578,\n",
       " 203.51258850097656,\n",
       " 206.08328247070312,\n",
       " 208.97799682617188,\n",
       " 211.55540466308594,\n",
       " 213.50880432128906,\n",
       " 214.890625,\n",
       " 215.60789489746094,\n",
       " 216.0122833251953,\n",
       " 216.2772674560547,\n",
       " 217.05615234375,\n",
       " 218.6385040283203,\n",
       " 220.8145294189453,\n",
       " 222.7230987548828,\n",
       " 224.27886962890625,\n",
       " 225.37619018554688,\n",
       " 225.5810546875,\n",
       " 224.7314910888672,\n",
       " 223.12124633789062,\n",
       " 221.16119384765625,\n",
       " 219.04275512695312,\n",
       " 216.806396484375,\n",
       " 214.3261260986328,\n",
       " 211.51763916015625,\n",
       " 208.57797241210938,\n",
       " 205.8469696044922,\n",
       " 203.52838134765625,\n",
       " 202.50274658203125,\n",
       " 203.42005920410156]"
      ]
     },
     "execution_count": 74,
     "metadata": {},
     "output_type": "execute_result"
    }
   ],
   "source": [
    "predictions.flatten().tolist()"
   ]
  },
  {
   "cell_type": "code",
   "execution_count": 60,
   "metadata": {},
   "outputs": [
    {
     "data": {
      "text/plain": [
       "101"
      ]
     },
     "execution_count": 60,
     "metadata": {},
     "output_type": "execute_result"
    }
   ],
   "source": [
    "len(predictions)"
   ]
  },
  {
   "cell_type": "code",
   "execution_count": 63,
   "metadata": {},
   "outputs": [],
   "source": [
    "pd.DataFrame({\n",
    "    \"opening_price\": df.flatten().tolist(),\n",
    "    \"predicted_prices\": predictions.flatten().tolist(),\n",
    "}).to_csv('graph_1.csv')"
   ]
  },
  {
   "cell_type": "code",
   "execution_count": 1,
   "metadata": {},
   "outputs": [
    {
     "ename": "NameError",
     "evalue": "name 'scaler' is not defined",
     "output_type": "error",
     "traceback": [
      "\u001b[1;31m---------------------------------------------------------------------------\u001b[0m",
      "\u001b[1;31mNameError\u001b[0m                                 Traceback (most recent call last)",
      "\u001b[1;32m<ipython-input-1-1a81d6ca4949>\u001b[0m in \u001b[0;36m<module>\u001b[1;34m\u001b[0m\n\u001b[1;32m----> 1\u001b[1;33m \u001b[0my_test_scaled\u001b[0m \u001b[1;33m=\u001b[0m \u001b[0mscaler\u001b[0m\u001b[1;33m.\u001b[0m\u001b[0minverse_transform\u001b[0m\u001b[1;33m(\u001b[0m\u001b[0my_test\u001b[0m\u001b[1;33m.\u001b[0m\u001b[0mreshape\u001b[0m\u001b[1;33m(\u001b[0m\u001b[1;33m-\u001b[0m\u001b[1;36m1\u001b[0m\u001b[1;33m,\u001b[0m\u001b[1;36m1\u001b[0m\u001b[1;33m)\u001b[0m\u001b[1;33m)\u001b[0m\u001b[1;33m\u001b[0m\u001b[1;33m\u001b[0m\u001b[0m\n\u001b[0m\u001b[0;32m      2\u001b[0m \u001b[1;33m\u001b[0m\u001b[0m\n\u001b[0;32m      3\u001b[0m \u001b[0mfig\u001b[0m\u001b[1;33m,\u001b[0m \u001b[0max\u001b[0m \u001b[1;33m=\u001b[0m \u001b[0mplt\u001b[0m\u001b[1;33m.\u001b[0m\u001b[0msubplots\u001b[0m\u001b[1;33m(\u001b[0m\u001b[0mfigsize\u001b[0m\u001b[1;33m=\u001b[0m\u001b[1;33m(\u001b[0m\u001b[1;36m8\u001b[0m\u001b[1;33m,\u001b[0m\u001b[1;36m4\u001b[0m\u001b[1;33m)\u001b[0m\u001b[1;33m)\u001b[0m\u001b[1;33m\u001b[0m\u001b[1;33m\u001b[0m\u001b[0m\n\u001b[0;32m      4\u001b[0m \u001b[0max\u001b[0m\u001b[1;33m.\u001b[0m\u001b[0mplot\u001b[0m\u001b[1;33m(\u001b[0m\u001b[0my_test_scaled\u001b[0m\u001b[1;33m,\u001b[0m \u001b[0mcolor\u001b[0m\u001b[1;33m=\u001b[0m\u001b[1;34m'red'\u001b[0m\u001b[1;33m,\u001b[0m \u001b[0mlabel\u001b[0m\u001b[1;33m=\u001b[0m\u001b[1;34m'True Price of testing set'\u001b[0m\u001b[1;33m)\u001b[0m\u001b[1;33m\u001b[0m\u001b[1;33m\u001b[0m\u001b[0m\n\u001b[0;32m      5\u001b[0m \u001b[0mplt\u001b[0m\u001b[1;33m.\u001b[0m\u001b[0mplot\u001b[0m\u001b[1;33m(\u001b[0m\u001b[0mpredictions\u001b[0m\u001b[1;33m,\u001b[0m\u001b[0mcolor\u001b[0m\u001b[1;33m=\u001b[0m\u001b[1;34m'blue'\u001b[0m\u001b[1;33m,\u001b[0m\u001b[0mlabel\u001b[0m\u001b[1;33m=\u001b[0m\u001b[1;34m'predicted'\u001b[0m\u001b[1;33m)\u001b[0m\u001b[1;33m\u001b[0m\u001b[1;33m\u001b[0m\u001b[0m\n",
      "\u001b[1;31mNameError\u001b[0m: name 'scaler' is not defined"
     ]
    }
   ],
   "source": [
    "y_test_scaled = scaler.inverse_transform(y_test.reshape(-1,1))\n",
    "\n",
    "fig, ax = plt.subplots(figsize=(8,4))\n",
    "ax.plot(y_test_scaled, color='red', label='True Price of testing set')\n",
    "plt.plot(predictions,color='blue',label='predicted')\n",
    "plt.legend()\n",
    "plt.savefig('image.png')"
   ]
  },
  {
   "cell_type": "code",
   "execution_count": null,
   "metadata": {},
   "outputs": [],
   "source": []
  }
 ],
 "metadata": {
  "kernelspec": {
   "display_name": "Python 3.6.10 64-bit ('PythonData': conda)",
   "language": "python",
   "name": "python361064bitpythondataconda13c33e7d00474160b8916212f83fb86d"
  },
  "language_info": {
   "codemirror_mode": {
    "name": "ipython",
    "version": 3
   },
   "file_extension": ".py",
   "mimetype": "text/x-python",
   "name": "python",
   "nbconvert_exporter": "python",
   "pygments_lexer": "ipython3",
   "version": "3.6.11"
  }
 },
 "nbformat": 4,
 "nbformat_minor": 4
}
