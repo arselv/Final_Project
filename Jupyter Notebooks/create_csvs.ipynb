{
 "cells": [
  {
   "cell_type": "code",
   "execution_count": null,
   "metadata": {},
   "outputs": [],
   "source": [
    "tickerStr = \"TLSA\""
   ]
  },
  {
   "cell_type": "code",
   "execution_count": 2,
   "metadata": {},
   "outputs": [],
   "source": [
    "import numpy as np\n",
    "import pandas as pd\n",
    "from sklearn.preprocessing import MinMaxScaler\n",
    "from keras.models import load_model\n",
    "import os\n",
    "import yfinance as yf"
   ]
  },
  {
   "cell_type": "code",
   "execution_count": null,
   "metadata": {},
   "outputs": [],
   "source": [
    "model = load_model(os.path.join(\"..\",\"static\",\"models\",f\"{tickerStr}.h5\"))"
   ]
  },
  {
   "cell_type": "code",
   "execution_count": null,
   "metadata": {},
   "outputs": [],
   "source": [
    "ticker = yf.Ticker(tickerStr)\n",
    "df = ticker.history(period='5y')['Close'].values\n",
    "df = df.reshape(-1, 1)\n",
    "dataset_train = np.array(df[:int(df.shape[0]*0.8)])\n",
    "dataset_test = np.array(df[int(df.shape[0]*0.8)-50:])\n",
    "scaler = MinMaxScaler(feature_range=(0,1))\n",
    "dataset_train = scaler.fit_transform(dataset_train)\n",
    "dataset_test = scaler.transform(dataset_test)\n",
    "\n",
    "def create_my_dataset(df):\n",
    "    x = []\n",
    "    y = []\n",
    "    for i in range(50, df.shape[0]):\n",
    "        x.append(df[i-50:i,0])\n",
    "        y.append(df[i,0])\n",
    "    x = np.array(x)\n",
    "    y = np.array(y)\n",
    "    return x,y\n",
    "\n",
    "x_train, y_train = create_my_dataset(dataset_train)\n",
    "x_test, y_test = create_my_dataset(dataset_test)\n",
    "\n",
    "#reshaping for LSTM\n",
    "x_train = np.reshape(x_train, (x_train.shape[0],x_train.shape[1],1))\n",
    "x_test = np.reshape(x_test, (x_test.shape[0], x_test.shape[1],1))\n",
    "\n",
    "predictions = model.predict(x_test)\n",
    "predictions = scaler.inverse_transform(predictions)\n",
    "\n",
    "predictions_prepended = [0 for i in range(0,df.shape[0]-len(predictions))]\n",
    "predictions_prepended.extend(predictions.flatten().tolist())\n",
    "\n",
    "overall = pd.DataFrame({\n",
    "    \"closing_prices\": df.flatten().tolist(),\n",
    "    \"predicted_prices\": predictions_prepended,\n",
    "})\n",
    "overall.to_csv(os.path.join(\"..\",\"static\",\"data\",f\"{tickerStr}_overall.csv\",index_label=\"Index\"))\n",
    "\n",
    "y_test_scaled = scaler.inverse_transform(y_test.reshape(-1,1))\n",
    "y_test_zoomed = y_test_scaled.flatten().tolist()\n",
    "zoomed = pd.DataFrame({\n",
    "    \"closing_prices\": y_test_scaled.flatten().tolist(),\n",
    "    \"predicted_prices\": predictions.flatten().tolist()\n",
    "})\n",
    "zoomed.to_csv(os.path.join(\"..\",\"static\",\"data\",f\"{tickerStr}_zoomed.csv\"))"
   ]
  }
 ],
 "metadata": {
  "kernelspec": {
   "display_name": "Python 3.6.10 64-bit ('PythonData': conda)",
   "language": "python",
   "name": "python361064bitpythondataconda13c33e7d00474160b8916212f83fb86d"
  },
  "language_info": {
   "codemirror_mode": {
    "name": "ipython",
    "version": 3
   },
   "file_extension": ".py",
   "mimetype": "text/x-python",
   "name": "python",
   "nbconvert_exporter": "python",
   "pygments_lexer": "ipython3",
   "version": "3.6.11"
  }
 },
 "nbformat": 4,
 "nbformat_minor": 4
}
